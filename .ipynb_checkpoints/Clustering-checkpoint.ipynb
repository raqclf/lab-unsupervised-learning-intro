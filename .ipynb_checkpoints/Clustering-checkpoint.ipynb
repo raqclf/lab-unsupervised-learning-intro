{
 "cells": [
  {
   "cell_type": "code",
   "execution_count": 5,
   "id": "b249a379",
   "metadata": {},
   "outputs": [],
   "source": [
    "import pandas as pd\n",
    "import numpy as np\n",
    "import matplotlib.pyplot as plt\n",
    "%matplotlib inline\n",
    "\n",
    "from sklearn import cluster, datasets\n",
    "from sklearn.preprocessing import StandardScaler\n",
    "from sklearn.model_selection import train_test_split\n",
    "from matplotlib.lines import Line2D"
   ]
  },
  {
   "cell_type": "code",
   "execution_count": 6,
   "id": "c0a61526",
   "metadata": {},
   "outputs": [],
   "source": [
    "spot = pd.read_csv(\"C:\\\\Users\\\\franc\\\\IH-Lab\\\\lab-api-wrappers\\\\df_song_features.csv\").drop('Unnamed: 0', axis =1) #Try my own list before the Kaggle joint"
   ]
  },
  {
   "cell_type": "code",
   "execution_count": 7,
   "id": "c98ba11c",
   "metadata": {},
   "outputs": [],
   "source": [
    "#get only numericals for k-means\n",
    "spot_num =  spot.select_dtypes(np.number)"
   ]
  },
  {
   "cell_type": "code",
   "execution_count": 8,
   "id": "ff18247d",
   "metadata": {},
   "outputs": [
    {
     "data": {
      "text/html": [
       "<div>\n",
       "<style scoped>\n",
       "    .dataframe tbody tr th:only-of-type {\n",
       "        vertical-align: middle;\n",
       "    }\n",
       "\n",
       "    .dataframe tbody tr th {\n",
       "        vertical-align: top;\n",
       "    }\n",
       "\n",
       "    .dataframe thead th {\n",
       "        text-align: right;\n",
       "    }\n",
       "</style>\n",
       "<table border=\"1\" class=\"dataframe\">\n",
       "  <thead>\n",
       "    <tr style=\"text-align: right;\">\n",
       "      <th></th>\n",
       "      <th>popularity</th>\n",
       "      <th>danceability</th>\n",
       "      <th>energy</th>\n",
       "      <th>key</th>\n",
       "      <th>loudness</th>\n",
       "      <th>mode</th>\n",
       "      <th>speechiness</th>\n",
       "      <th>acousticness</th>\n",
       "      <th>instrumentalness</th>\n",
       "      <th>liveness</th>\n",
       "      <th>valence</th>\n",
       "      <th>tempo</th>\n",
       "      <th>duration_ms</th>\n",
       "      <th>time_signature</th>\n",
       "    </tr>\n",
       "  </thead>\n",
       "  <tbody>\n",
       "    <tr>\n",
       "      <th>0</th>\n",
       "      <td>9</td>\n",
       "      <td>0.390</td>\n",
       "      <td>0.06920</td>\n",
       "      <td>0</td>\n",
       "      <td>-23.312</td>\n",
       "      <td>1</td>\n",
       "      <td>0.0905</td>\n",
       "      <td>0.4350</td>\n",
       "      <td>0.504000</td>\n",
       "      <td>0.0822</td>\n",
       "      <td>0.0433</td>\n",
       "      <td>76.465</td>\n",
       "      <td>740413</td>\n",
       "      <td>4</td>\n",
       "    </tr>\n",
       "    <tr>\n",
       "      <th>1</th>\n",
       "      <td>34</td>\n",
       "      <td>0.283</td>\n",
       "      <td>0.00966</td>\n",
       "      <td>0</td>\n",
       "      <td>-28.107</td>\n",
       "      <td>1</td>\n",
       "      <td>0.0327</td>\n",
       "      <td>0.9930</td>\n",
       "      <td>0.807000</td>\n",
       "      <td>0.0884</td>\n",
       "      <td>0.1080</td>\n",
       "      <td>103.468</td>\n",
       "      <td>259042</td>\n",
       "      <td>5</td>\n",
       "    </tr>\n",
       "    <tr>\n",
       "      <th>2</th>\n",
       "      <td>31</td>\n",
       "      <td>0.694</td>\n",
       "      <td>0.76100</td>\n",
       "      <td>5</td>\n",
       "      <td>-4.087</td>\n",
       "      <td>0</td>\n",
       "      <td>0.0372</td>\n",
       "      <td>0.4460</td>\n",
       "      <td>0.000000</td>\n",
       "      <td>0.2890</td>\n",
       "      <td>0.5500</td>\n",
       "      <td>114.947</td>\n",
       "      <td>208467</td>\n",
       "      <td>4</td>\n",
       "    </tr>\n",
       "    <tr>\n",
       "      <th>3</th>\n",
       "      <td>34</td>\n",
       "      <td>0.487</td>\n",
       "      <td>0.75000</td>\n",
       "      <td>0</td>\n",
       "      <td>-8.348</td>\n",
       "      <td>1</td>\n",
       "      <td>0.0516</td>\n",
       "      <td>0.0582</td>\n",
       "      <td>0.000008</td>\n",
       "      <td>0.2830</td>\n",
       "      <td>0.8230</td>\n",
       "      <td>127.769</td>\n",
       "      <td>138688</td>\n",
       "      <td>4</td>\n",
       "    </tr>\n",
       "    <tr>\n",
       "      <th>4</th>\n",
       "      <td>21</td>\n",
       "      <td>0.646</td>\n",
       "      <td>0.27900</td>\n",
       "      <td>4</td>\n",
       "      <td>-3.575</td>\n",
       "      <td>1</td>\n",
       "      <td>0.0545</td>\n",
       "      <td>0.1490</td>\n",
       "      <td>0.915000</td>\n",
       "      <td>0.0993</td>\n",
       "      <td>0.7150</td>\n",
       "      <td>120.063</td>\n",
       "      <td>147587</td>\n",
       "      <td>4</td>\n",
       "    </tr>\n",
       "    <tr>\n",
       "      <th>...</th>\n",
       "      <td>...</td>\n",
       "      <td>...</td>\n",
       "      <td>...</td>\n",
       "      <td>...</td>\n",
       "      <td>...</td>\n",
       "      <td>...</td>\n",
       "      <td>...</td>\n",
       "      <td>...</td>\n",
       "      <td>...</td>\n",
       "      <td>...</td>\n",
       "      <td>...</td>\n",
       "      <td>...</td>\n",
       "      <td>...</td>\n",
       "      <td>...</td>\n",
       "    </tr>\n",
       "    <tr>\n",
       "      <th>5882</th>\n",
       "      <td>31</td>\n",
       "      <td>0.571</td>\n",
       "      <td>0.75000</td>\n",
       "      <td>7</td>\n",
       "      <td>-5.987</td>\n",
       "      <td>0</td>\n",
       "      <td>0.0307</td>\n",
       "      <td>0.4190</td>\n",
       "      <td>0.000000</td>\n",
       "      <td>0.1040</td>\n",
       "      <td>0.5630</td>\n",
       "      <td>87.982</td>\n",
       "      <td>242867</td>\n",
       "      <td>4</td>\n",
       "    </tr>\n",
       "    <tr>\n",
       "      <th>5883</th>\n",
       "      <td>26</td>\n",
       "      <td>0.602</td>\n",
       "      <td>0.79500</td>\n",
       "      <td>2</td>\n",
       "      <td>-4.828</td>\n",
       "      <td>1</td>\n",
       "      <td>0.1110</td>\n",
       "      <td>0.0458</td>\n",
       "      <td>0.000000</td>\n",
       "      <td>0.1660</td>\n",
       "      <td>0.8580</td>\n",
       "      <td>127.993</td>\n",
       "      <td>149381</td>\n",
       "      <td>5</td>\n",
       "    </tr>\n",
       "    <tr>\n",
       "      <th>5884</th>\n",
       "      <td>2</td>\n",
       "      <td>0.866</td>\n",
       "      <td>0.69500</td>\n",
       "      <td>8</td>\n",
       "      <td>-7.347</td>\n",
       "      <td>1</td>\n",
       "      <td>0.0357</td>\n",
       "      <td>0.3350</td>\n",
       "      <td>0.884000</td>\n",
       "      <td>0.1260</td>\n",
       "      <td>0.8990</td>\n",
       "      <td>117.031</td>\n",
       "      <td>211160</td>\n",
       "      <td>4</td>\n",
       "    </tr>\n",
       "    <tr>\n",
       "      <th>5885</th>\n",
       "      <td>52</td>\n",
       "      <td>0.523</td>\n",
       "      <td>0.39100</td>\n",
       "      <td>4</td>\n",
       "      <td>-11.769</td>\n",
       "      <td>0</td>\n",
       "      <td>0.0300</td>\n",
       "      <td>0.4370</td>\n",
       "      <td>0.492000</td>\n",
       "      <td>0.2050</td>\n",
       "      <td>0.0378</td>\n",
       "      <td>109.952</td>\n",
       "      <td>169038</td>\n",
       "      <td>4</td>\n",
       "    </tr>\n",
       "    <tr>\n",
       "      <th>5886</th>\n",
       "      <td>23</td>\n",
       "      <td>0.739</td>\n",
       "      <td>0.80600</td>\n",
       "      <td>5</td>\n",
       "      <td>-9.050</td>\n",
       "      <td>1</td>\n",
       "      <td>0.0662</td>\n",
       "      <td>0.1490</td>\n",
       "      <td>0.677000</td>\n",
       "      <td>0.2640</td>\n",
       "      <td>0.9480</td>\n",
       "      <td>100.419</td>\n",
       "      <td>212933</td>\n",
       "      <td>4</td>\n",
       "    </tr>\n",
       "  </tbody>\n",
       "</table>\n",
       "<p>5887 rows × 14 columns</p>\n",
       "</div>"
      ],
      "text/plain": [
       "      popularity  danceability   energy  key  loudness  mode  speechiness  \\\n",
       "0              9         0.390  0.06920    0   -23.312     1       0.0905   \n",
       "1             34         0.283  0.00966    0   -28.107     1       0.0327   \n",
       "2             31         0.694  0.76100    5    -4.087     0       0.0372   \n",
       "3             34         0.487  0.75000    0    -8.348     1       0.0516   \n",
       "4             21         0.646  0.27900    4    -3.575     1       0.0545   \n",
       "...          ...           ...      ...  ...       ...   ...          ...   \n",
       "5882          31         0.571  0.75000    7    -5.987     0       0.0307   \n",
       "5883          26         0.602  0.79500    2    -4.828     1       0.1110   \n",
       "5884           2         0.866  0.69500    8    -7.347     1       0.0357   \n",
       "5885          52         0.523  0.39100    4   -11.769     0       0.0300   \n",
       "5886          23         0.739  0.80600    5    -9.050     1       0.0662   \n",
       "\n",
       "      acousticness  instrumentalness  liveness  valence    tempo  duration_ms  \\\n",
       "0           0.4350          0.504000    0.0822   0.0433   76.465       740413   \n",
       "1           0.9930          0.807000    0.0884   0.1080  103.468       259042   \n",
       "2           0.4460          0.000000    0.2890   0.5500  114.947       208467   \n",
       "3           0.0582          0.000008    0.2830   0.8230  127.769       138688   \n",
       "4           0.1490          0.915000    0.0993   0.7150  120.063       147587   \n",
       "...            ...               ...       ...      ...      ...          ...   \n",
       "5882        0.4190          0.000000    0.1040   0.5630   87.982       242867   \n",
       "5883        0.0458          0.000000    0.1660   0.8580  127.993       149381   \n",
       "5884        0.3350          0.884000    0.1260   0.8990  117.031       211160   \n",
       "5885        0.4370          0.492000    0.2050   0.0378  109.952       169038   \n",
       "5886        0.1490          0.677000    0.2640   0.9480  100.419       212933   \n",
       "\n",
       "      time_signature  \n",
       "0                  4  \n",
       "1                  5  \n",
       "2                  4  \n",
       "3                  4  \n",
       "4                  4  \n",
       "...              ...  \n",
       "5882               4  \n",
       "5883               5  \n",
       "5884               4  \n",
       "5885               4  \n",
       "5886               4  \n",
       "\n",
       "[5887 rows x 14 columns]"
      ]
     },
     "execution_count": 8,
     "metadata": {},
     "output_type": "execute_result"
    }
   ],
   "source": [
    "spot_num"
   ]
  },
  {
   "cell_type": "code",
   "execution_count": 214,
   "id": "42614d52",
   "metadata": {},
   "outputs": [
    {
     "data": {
      "text/plain": [
       "popularity          0\n",
       "danceability        0\n",
       "energy              0\n",
       "key                 0\n",
       "loudness            0\n",
       "mode                0\n",
       "speechiness         0\n",
       "acousticness        0\n",
       "instrumentalness    0\n",
       "liveness            0\n",
       "valence             0\n",
       "tempo               0\n",
       "duration_ms         0\n",
       "time_signature      0\n",
       "dtype: int64"
      ]
     },
     "execution_count": 214,
     "metadata": {},
     "output_type": "execute_result"
    }
   ],
   "source": [
    "spot_num.isna().sum()"
   ]
  },
  {
   "cell_type": "code",
   "execution_count": 9,
   "id": "e24f4258",
   "metadata": {},
   "outputs": [
    {
     "name": "stderr",
     "output_type": "stream",
     "text": [
      "C:\\Users\\franc\\anaconda3\\lib\\site-packages\\pandas\\util\\_decorators.py:311: SettingWithCopyWarning: \n",
      "A value is trying to be set on a copy of a slice from a DataFrame\n",
      "\n",
      "See the caveats in the documentation: https://pandas.pydata.org/pandas-docs/stable/user_guide/indexing.html#returning-a-view-versus-a-copy\n",
      "  return func(*args, **kwargs)\n"
     ]
    }
   ],
   "source": [
    "sport_num = spot_num.dropna(inplace=True)"
   ]
  },
  {
   "cell_type": "code",
   "execution_count": 10,
   "id": "dc009be5",
   "metadata": {},
   "outputs": [],
   "source": [
    "#normalizing features\n",
    "from sklearn.preprocessing import StandardScaler\n",
    "X_prep = StandardScaler().fit_transform(spot_num)"
   ]
  },
  {
   "cell_type": "code",
   "execution_count": 217,
   "id": "2bf515ac",
   "metadata": {},
   "outputs": [
    {
     "data": {
      "text/html": [
       "<div>\n",
       "<style scoped>\n",
       "    .dataframe tbody tr th:only-of-type {\n",
       "        vertical-align: middle;\n",
       "    }\n",
       "\n",
       "    .dataframe tbody tr th {\n",
       "        vertical-align: top;\n",
       "    }\n",
       "\n",
       "    .dataframe thead th {\n",
       "        text-align: right;\n",
       "    }\n",
       "</style>\n",
       "<table border=\"1\" class=\"dataframe\">\n",
       "  <thead>\n",
       "    <tr style=\"text-align: right;\">\n",
       "      <th></th>\n",
       "      <th>popularity</th>\n",
       "      <th>danceability</th>\n",
       "      <th>energy</th>\n",
       "      <th>key</th>\n",
       "      <th>loudness</th>\n",
       "      <th>mode</th>\n",
       "      <th>speechiness</th>\n",
       "      <th>acousticness</th>\n",
       "      <th>instrumentalness</th>\n",
       "      <th>liveness</th>\n",
       "      <th>valence</th>\n",
       "      <th>tempo</th>\n",
       "      <th>duration_ms</th>\n",
       "      <th>time_signature</th>\n",
       "    </tr>\n",
       "  </thead>\n",
       "  <tbody>\n",
       "    <tr>\n",
       "      <th>0</th>\n",
       "      <td>-1.695454</td>\n",
       "      <td>-0.831147</td>\n",
       "      <td>-2.014801</td>\n",
       "      <td>-1.503963</td>\n",
       "      <td>-2.388926</td>\n",
       "      <td>0.764629</td>\n",
       "      <td>0.039203</td>\n",
       "      <td>0.239505</td>\n",
       "      <td>0.790239</td>\n",
       "      <td>-0.680727</td>\n",
       "      <td>-1.617392</td>\n",
       "      <td>-1.496578</td>\n",
       "      <td>4.282316</td>\n",
       "      <td>0.248575</td>\n",
       "    </tr>\n",
       "    <tr>\n",
       "      <th>1</th>\n",
       "      <td>-0.020497</td>\n",
       "      <td>-1.390822</td>\n",
       "      <td>-2.237144</td>\n",
       "      <td>-1.503963</td>\n",
       "      <td>-3.210491</td>\n",
       "      <td>0.764629</td>\n",
       "      <td>-0.499914</td>\n",
       "      <td>1.823920</td>\n",
       "      <td>1.645358</td>\n",
       "      <td>-0.639845</td>\n",
       "      <td>-1.381506</td>\n",
       "      <td>-0.592804</td>\n",
       "      <td>0.084366</td>\n",
       "      <td>2.553082</td>\n",
       "    </tr>\n",
       "    <tr>\n",
       "      <th>2</th>\n",
       "      <td>-0.221492</td>\n",
       "      <td>0.758957</td>\n",
       "      <td>0.568621</td>\n",
       "      <td>-0.095149</td>\n",
       "      <td>0.905044</td>\n",
       "      <td>-1.307825</td>\n",
       "      <td>-0.457941</td>\n",
       "      <td>0.270739</td>\n",
       "      <td>-0.632136</td>\n",
       "      <td>0.682897</td>\n",
       "      <td>0.229951</td>\n",
       "      <td>-0.208609</td>\n",
       "      <td>-0.356689</td>\n",
       "      <td>0.248575</td>\n",
       "    </tr>\n",
       "    <tr>\n",
       "      <th>3</th>\n",
       "      <td>-0.020497</td>\n",
       "      <td>-0.323778</td>\n",
       "      <td>0.527544</td>\n",
       "      <td>-1.503963</td>\n",
       "      <td>0.174973</td>\n",
       "      <td>0.764629</td>\n",
       "      <td>-0.323629</td>\n",
       "      <td>-0.830401</td>\n",
       "      <td>-0.632114</td>\n",
       "      <td>0.643334</td>\n",
       "      <td>1.225263</td>\n",
       "      <td>0.220535</td>\n",
       "      <td>-0.965219</td>\n",
       "      <td>0.248575</td>\n",
       "    </tr>\n",
       "    <tr>\n",
       "      <th>4</th>\n",
       "      <td>-0.891475</td>\n",
       "      <td>0.507888</td>\n",
       "      <td>-1.231335</td>\n",
       "      <td>-0.376912</td>\n",
       "      <td>0.992769</td>\n",
       "      <td>0.764629</td>\n",
       "      <td>-0.296579</td>\n",
       "      <td>-0.572578</td>\n",
       "      <td>1.950153</td>\n",
       "      <td>-0.567971</td>\n",
       "      <td>0.831513</td>\n",
       "      <td>-0.037380</td>\n",
       "      <td>-0.887612</td>\n",
       "      <td>0.248575</td>\n",
       "    </tr>\n",
       "  </tbody>\n",
       "</table>\n",
       "</div>"
      ],
      "text/plain": [
       "   popularity  danceability    energy       key  loudness      mode  \\\n",
       "0   -1.695454     -0.831147 -2.014801 -1.503963 -2.388926  0.764629   \n",
       "1   -0.020497     -1.390822 -2.237144 -1.503963 -3.210491  0.764629   \n",
       "2   -0.221492      0.758957  0.568621 -0.095149  0.905044 -1.307825   \n",
       "3   -0.020497     -0.323778  0.527544 -1.503963  0.174973  0.764629   \n",
       "4   -0.891475      0.507888 -1.231335 -0.376912  0.992769  0.764629   \n",
       "\n",
       "   speechiness  acousticness  instrumentalness  liveness   valence     tempo  \\\n",
       "0     0.039203      0.239505          0.790239 -0.680727 -1.617392 -1.496578   \n",
       "1    -0.499914      1.823920          1.645358 -0.639845 -1.381506 -0.592804   \n",
       "2    -0.457941      0.270739         -0.632136  0.682897  0.229951 -0.208609   \n",
       "3    -0.323629     -0.830401         -0.632114  0.643334  1.225263  0.220535   \n",
       "4    -0.296579     -0.572578          1.950153 -0.567971  0.831513 -0.037380   \n",
       "\n",
       "   duration_ms  time_signature  \n",
       "0     4.282316        0.248575  \n",
       "1     0.084366        2.553082  \n",
       "2    -0.356689        0.248575  \n",
       "3    -0.965219        0.248575  \n",
       "4    -0.887612        0.248575  "
      ]
     },
     "execution_count": 217,
     "metadata": {},
     "output_type": "execute_result"
    }
   ],
   "source": [
    "pd.DataFrame(X_prep,columns=spot_num.columns).head()"
   ]
  },
  {
   "cell_type": "code",
   "execution_count": 20,
   "id": "067dedb5",
   "metadata": {},
   "outputs": [
    {
     "data": {
      "text/plain": [
       "KMeans(n_clusters=9, random_state=0)"
      ]
     },
     "execution_count": 20,
     "metadata": {},
     "output_type": "execute_result"
    }
   ],
   "source": [
    "from sklearn.cluster import KMeans\n",
    "\n",
    "kmeans = KMeans(n_clusters=9, random_state=0)\n",
    "kmeans.fit(X_prep)"
   ]
  },
  {
   "cell_type": "code",
   "execution_count": 21,
   "id": "f1b65b8f",
   "metadata": {},
   "outputs": [
    {
     "data": {
      "text/plain": [
       "0     251\n",
       "1    1124\n",
       "2     508\n",
       "3     848\n",
       "4     825\n",
       "5     313\n",
       "6    1275\n",
       "7      59\n",
       "8     684\n",
       "dtype: int64"
      ]
     },
     "execution_count": 21,
     "metadata": {},
     "output_type": "execute_result"
    }
   ],
   "source": [
    "# Predicting / assigning the clusters:\n",
    "clusters = kmeans.predict(X_prep)\n",
    "\n",
    "# Check the size of the clusters\n",
    "pd.Series(clusters).value_counts().sort_index()"
   ]
  },
  {
   "cell_type": "code",
   "execution_count": 22,
   "id": "25842bff",
   "metadata": {},
   "outputs": [
    {
     "data": {
      "text/plain": [
       "array([2, 2, 1, ..., 6, 4, 6])"
      ]
     },
     "execution_count": 22,
     "metadata": {},
     "output_type": "execute_result"
    }
   ],
   "source": [
    "clusters"
   ]
  },
  {
   "cell_type": "code",
   "execution_count": 23,
   "id": "b35c95fa",
   "metadata": {},
   "outputs": [
    {
     "data": {
      "image/png": "[encoded data removed]",
      "text/plain": [
       "<Figure size 360x360 with 1 Axes>"
      ]
     },
     "metadata": {
      "needs_background": "light"
     },
     "output_type": "display_data"
    }
   ],
   "source": [
    "plt.figure(figsize=(5, 5))\n",
    "plt.scatter(X_prep[:, 0], X_prep[:, 1], c=clusters,alpha=0.7)\n",
    "plt.show()"
   ]
  },
  {
   "cell_type": "code",
   "execution_count": 296,
   "id": "b9283777",
   "metadata": {},
   "outputs": [],
   "source": [
    "#Checking K-mean inertia "
   ]
  },
  {
   "cell_type": "code",
   "execution_count": 297,
   "id": "82507076",
   "metadata": {},
   "outputs": [
    {
     "data": {
      "text/plain": [
       "46949.675200271406"
      ]
     },
     "execution_count": 297,
     "metadata": {},
     "output_type": "execute_result"
    }
   ],
   "source": [
    "kmeans.inertia_ "
   ]
  },
  {
   "cell_type": "code",
   "execution_count": 298,
   "id": "819a6b8b",
   "metadata": {},
   "outputs": [
    {
     "data": {
      "text/plain": [
       "Text(0.5, 1.0, 'Elbow Method showing the optimal k')"
      ]
     },
     "execution_count": 298,
     "metadata": {},
     "output_type": "execute_result"
    },
    {
     "data": {
      "image/png": "[encoded data removed]",
      "text/plain": [
       "<Figure size 1152x576 with 1 Axes>"
      ]
     },
     "metadata": {
      "needs_background": "light"
     },
     "output_type": "display_data"
    }
   ],
   "source": [
    "import numpy as np\n",
    "K = range(2, 20)\n",
    "inertia = []\n",
    "\n",
    "for k in K:\n",
    "    kmeans = KMeans(n_clusters=k,\n",
    "                    random_state=1234)\n",
    "    kmeans.fit(X_prep)\n",
    "    inertia.append(kmeans.inertia_)\n",
    "\n",
    "import matplotlib.pyplot as plt\n",
    "%matplotlib inline\n",
    "\n",
    "plt.figure(figsize=(16,8))\n",
    "plt.plot(K, inertia, 'bx-')\n",
    "plt.xlabel('k')\n",
    "plt.ylabel('inertia')\n",
    "plt.xticks(np.arange(min(K), max(K)+1, 1.0))\n",
    "plt.title('Elbow Method showing the optimal k')"
   ]
  },
  {
   "cell_type": "code",
   "execution_count": 172,
   "id": "bb4de3a7",
   "metadata": {},
   "outputs": [],
   "source": [
    "#Checking K-mean silhouette"
   ]
  },
  {
   "cell_type": "code",
   "execution_count": 173,
   "id": "28e2d24f",
   "metadata": {},
   "outputs": [
    {
     "data": {
      "text/plain": [
       "Text(0.5, 1.0, 'Silhouette score showing the optimal k')"
      ]
     },
     "execution_count": 173,
     "metadata": {},
     "output_type": "execute_result"
    },
    {
     "data": {
      "image/png": "[encoded data removed]",
      "text/plain": [
       "<Figure size 1152x576 with 1 Axes>"
      ]
     },
     "metadata": {
      "needs_background": "light"
     },
     "output_type": "display_data"
    }
   ],
   "source": [
    "from sklearn.metrics import silhouette_score\n",
    "K = range(2, 20)\n",
    "silhouette = []\n",
    "\n",
    "for k in K:\n",
    "    kmeans = KMeans(n_clusters=k,\n",
    "                    random_state=1234)\n",
    "    kmeans.fit(X_prep)\n",
    "    silhouette.append(silhouette_score(X_prep, kmeans.predict(X_prep)))\n",
    "\n",
    "\n",
    "plt.figure(figsize=(16,8))\n",
    "plt.plot(K, silhouette, 'bx-')\n",
    "plt.xlabel('k')\n",
    "plt.ylabel('silhouette score')\n",
    "plt.xticks(np.arange(min(K), max(K)+1, 1.0))\n",
    "plt.title('Silhouette score showing the optimal k')"
   ]
  },
  {
   "cell_type": "code",
   "execution_count": null,
   "id": "27d4d9e4",
   "metadata": {},
   "outputs": [],
   "source": []
  },
  {
   "cell_type": "markdown",
   "id": "7f64e0ca",
   "metadata": {},
   "source": [
    "### ward linkage tends to produce relatively equally sized clusters\n",
    "agglomerative = cluster.AgglomerativeClustering(n_clusters=9,linkage='ward')\n",
    "pred = agglomerative.fit_predict(X_prep)\n",
    "\n",
    "plt.figure(figsize=(5, 5))\n",
    "plt.scatter(X_prep[:, 0], X_prep[:, 1], c=pred,alpha=0.5)\n",
    "plt.show()"
   ]
  },
  {
   "cell_type": "code",
   "execution_count": null,
   "id": "83adf1d5",
   "metadata": {},
   "outputs": [],
   "source": []
  },
  {
   "cell_type": "markdown",
   "id": "c3e924fb",
   "metadata": {},
   "source": [
    "### complete linkage penalizes heavily outliers\n",
    "agglomerative = cluster.AgglomerativeClustering(n_clusters=3,linkage='complete')\n",
    "pred = agglomerative.fit_predict(X_prep)\n",
    "\n",
    "plt.figure(figsize=(5, 5))\n",
    "plt.scatter(X_prep[:, 0], X_prep[:, 1], c=pred,alpha=0.5)\n",
    "plt.show()"
   ]
  },
  {
   "cell_type": "code",
   "execution_count": null,
   "id": "a1971098",
   "metadata": {},
   "outputs": [],
   "source": []
  },
  {
   "cell_type": "markdown",
   "id": "e13e37f3",
   "metadata": {},
   "source": [
    "### different algorithms are good for different applications\n",
    "agglomerative = cluster.AgglomerativeClustering(n_clusters=3,linkage='average')\n",
    "pred = agglomerative.fit_predict(X_prep)\n",
    "\n",
    "plt.figure(figsize=(5, 5))\n",
    "plt.scatter(X_prep[:, 0], X_prep[:, 1], c=pred,alpha=0.5)\n",
    "plt.show()"
   ]
  },
  {
   "cell_type": "code",
   "execution_count": null,
   "id": "37241601",
   "metadata": {},
   "outputs": [],
   "source": []
  },
  {
   "cell_type": "markdown",
   "id": "87ad4577",
   "metadata": {},
   "source": [
    "#from matplotlib.lines import Line2D\n",
    "#from sklearn.metrics import silhouette_score\n",
    "\n",
    "### different algorithms are good for different applications - kmeans and single agglomerative have so far shown very different results\n",
    "\n",
    "kmeans = cluster.KMeans(n_clusters=2)\n",
    "kmeans.fit(X_prep)\n",
    "y1_pred = kmeans.predict(X_prep)\n",
    "\n",
    "\n",
    "single = cluster.AgglomerativeClustering(n_clusters=2, linkage='single')\n",
    "y2_pred = single.fit_predict(X_prep)\n",
    "\n",
    "\n",
    "options, charts = plt.subplots(1, 2, figsize=(12, 6))\n",
    "colors = np.array(['blue', 'red'])\n",
    "charts[0].scatter(X_prep[:, 0], X_prep[:, 1], color=colors[y1_pred])\n",
    "charts[1].scatter(X_prep[:, 0], X_prep[:, 1], color=colors[y2_pred])\n",
    "plt.show()"
   ]
  },
  {
   "cell_type": "code",
   "execution_count": null,
   "id": "1aca1c8a",
   "metadata": {},
   "outputs": [],
   "source": [
    "#Trying the PCA method to improve the model"
   ]
  },
  {
   "cell_type": "markdown",
   "id": "00514c9c",
   "metadata": {},
   "source": [
    "X = spot_num\n",
    "\n",
    "X_train, X_test, y_train, y_test = train_test_split(\n",
    "    X, y,\n",
    "    test_size=0.4,\n",
    "    random_state=59\n",
    ")"
   ]
  },
  {
   "cell_type": "markdown",
   "id": "578fc0bc",
   "metadata": {},
   "source": [
    "scaler = StandardScaler()\n",
    "#scaler.fit(X_train)\n",
    "#X_train_scaled = scaler.transform(X_train)\n",
    "#same thing in 1 line\n",
    "X_train_scaled = scaler.fit_transform(X_train)"
   ]
  },
  {
   "cell_type": "markdown",
   "id": "c4af5954",
   "metadata": {},
   "source": [
    "X_test_scaled = scaler.transform(X_test)"
   ]
  },
  {
   "cell_type": "code",
   "execution_count": 33,
   "id": "00e797f4",
   "metadata": {},
   "outputs": [],
   "source": [
    "from sklearn.neighbors import KNeighborsClassifier\n",
    "from sklearn.metrics import confusion_matrix\n",
    "from sklearn.decomposition import PCA\n",
    "import numpy as np\n",
    "import seaborn as sb"
   ]
  },
  {
   "cell_type": "markdown",
   "id": "0cde779f",
   "metadata": {},
   "source": [
    "pca = PCA()\n",
    "pca.fit(X_train_scaled)"
   ]
  },
  {
   "cell_type": "markdown",
   "id": "0da9c33a",
   "metadata": {},
   "source": [
    "exp_var_pca = pca.explained_variance_ratio_"
   ]
  },
  {
   "cell_type": "markdown",
   "id": "a3e8f72e",
   "metadata": {},
   "source": [
    "cum_sum_eigenvalues = np.cumsum(exp_var_pca)\n",
    "#cum_sum_eigenvalues\n",
    "\n",
    "###Create the visualization plot\n",
    "plt.bar(range(0,len(exp_var_pca)), exp_var_pca, \n",
    "        alpha=0.5, align='center', label='Individual explained variance')\n",
    "plt.step(range(0,len(cum_sum_eigenvalues)), cum_sum_eigenvalues, \n",
    "         where='mid',label='Cumulative explained variance')\n",
    "plt.ylabel('Explained variance ratio')\n",
    "plt.xlabel('Principal component index')\n",
    "plt.legend(loc='best')\n",
    "plt.tight_layout()\n",
    "plt.show()"
   ]
  },
  {
   "cell_type": "markdown",
   "id": "241bb51a",
   "metadata": {},
   "source": [
    "pca = PCA(10)\n",
    "pca.fit(X_train_scaled)"
   ]
  },
  {
   "cell_type": "markdown",
   "id": "d3331f40",
   "metadata": {},
   "source": [
    "pca.explained_variance_ratio_"
   ]
  },
  {
   "cell_type": "markdown",
   "id": "ba51d590",
   "metadata": {},
   "source": [
    "X_train_pca = pca.transform(X_train_scaled)\n",
    "X_test_pca = pca.transform(X_test_scaled)"
   ]
  },
  {
   "cell_type": "markdown",
   "id": "b583cef3",
   "metadata": {},
   "source": [
    "knn = KNeighborsClassifier()\n",
    "knn.fit(X_train_pca, y_train)"
   ]
  },
  {
   "cell_type": "markdown",
   "id": "05748b3a",
   "metadata": {},
   "source": [
    "y_pred_pca = knn.predict(X_test_pca)"
   ]
  },
  {
   "cell_type": "markdown",
   "id": "074a0f3c",
   "metadata": {},
   "source": [
    "###with PCA\n",
    "confusion_matrix(y_test, y_pred_pca)"
   ]
  },
  {
   "cell_type": "markdown",
   "id": "8181ba82",
   "metadata": {},
   "source": [
    "np.array(X_train)[:,1]"
   ]
  },
  {
   "cell_type": "markdown",
   "id": "68301778",
   "metadata": {},
   "source": [
    "plt.scatter(X_train_pca[:,0],X_train_pca[:,1], c = y_train)"
   ]
  },
  {
   "cell_type": "markdown",
   "id": "7469e8d4",
   "metadata": {},
   "source": [
    "corr = pd.DataFrame(X_train_scaled).corr()\n",
    "sb.heatmap(corr, \n",
    "            cmap='RdBu_r',\n",
    "            annot=False,\n",
    "            linewidth=0.5)\n",
    "plt.title('Correlation of in original data')"
   ]
  },
  {
   "cell_type": "markdown",
   "id": "d800d251",
   "metadata": {},
   "source": [
    "X_train_pca = pca.transform(X_train_scaled)\n",
    "corr_pc = pd.DataFrame(X_train_pca).corr()\n",
    "sb.heatmap(corr_pc, \n",
    "            cmap='RdBu_r',\n",
    "            annot=True,\n",
    "            linewidth=0.5)\n",
    "plt.title('Correlation of PC scores')"
   ]
  },
  {
   "cell_type": "code",
   "execution_count": null,
   "id": "6bdbb42e",
   "metadata": {},
   "outputs": [],
   "source": []
  },
  {
   "cell_type": "code",
   "execution_count": 38,
   "id": "91a65b2c",
   "metadata": {},
   "outputs": [],
   "source": [
    "#Apply PCA method to the whole dataframe"
   ]
  },
  {
   "cell_type": "code",
   "execution_count": 39,
   "id": "1014b852",
   "metadata": {},
   "outputs": [],
   "source": [
    "scaler = StandardScaler()\n",
    "scaler.fit(spot_num)\n",
    "spot_num_scaled = scaler.transform(spot_num)"
   ]
  },
  {
   "cell_type": "code",
   "execution_count": 50,
   "id": "9f9046ac",
   "metadata": {},
   "outputs": [
    {
     "data": {
      "text/plain": [
       "PCA()"
      ]
     },
     "execution_count": 50,
     "metadata": {},
     "output_type": "execute_result"
    }
   ],
   "source": [
    "pca = PCA()\n",
    "pca.fit(spot_num_scaled)"
   ]
  },
  {
   "cell_type": "code",
   "execution_count": 51,
   "id": "bd8381ce",
   "metadata": {},
   "outputs": [],
   "source": [
    "exp_var_pca = pca.explained_variance_ratio_"
   ]
  },
  {
   "cell_type": "code",
   "execution_count": 52,
   "id": "a1eb0757",
   "metadata": {},
   "outputs": [
    {
     "data": {
      "image/png": "[encoded data removed]",
      "text/plain": [
       "<Figure size 432x288 with 1 Axes>"
      ]
     },
     "metadata": {
      "needs_background": "light"
     },
     "output_type": "display_data"
    }
   ],
   "source": [
    "cum_sum_eigenvalues = np.cumsum(exp_var_pca)\n",
    "#cum_sum_eigenvalues\n",
    "\n",
    "# Create the visualization plot\n",
    "plt.bar(range(0,len(exp_var_pca)), exp_var_pca, \n",
    "        alpha=0.5, align='center', label='Individual explained variance')\n",
    "plt.step(range(0,len(cum_sum_eigenvalues)), cum_sum_eigenvalues, \n",
    "         where='mid',label='Cumulative explained variance')\n",
    "plt.ylabel('Explained variance ratio')\n",
    "plt.xlabel('Principal component index')\n",
    "plt.legend(loc='best')\n",
    "plt.tight_layout()\n",
    "plt.show()"
   ]
  },
  {
   "cell_type": "code",
   "execution_count": 55,
   "id": "a3dbfec5",
   "metadata": {},
   "outputs": [
    {
     "data": {
      "text/plain": [
       "PCA(n_components=0.8)"
      ]
     },
     "execution_count": 55,
     "metadata": {},
     "output_type": "execute_result"
    }
   ],
   "source": [
    "pca = PCA(0.80)\n",
    "pca.fit(spot_num_scaled)"
   ]
  },
  {
   "cell_type": "code",
   "execution_count": 59,
   "id": "cdede9be",
   "metadata": {},
   "outputs": [
    {
     "data": {
      "text/plain": [
       "array([-0.8311471 , -1.39082193,  0.7589571 , ...,  1.65862131,\n",
       "       -0.13547651,  0.99433436])"
      ]
     },
     "execution_count": 59,
     "metadata": {},
     "output_type": "execute_result"
    }
   ],
   "source": [
    "np.array(spot_num_scaled)[:,1]"
   ]
  },
  {
   "cell_type": "code",
   "execution_count": 56,
   "id": "a0f73852",
   "metadata": {},
   "outputs": [],
   "source": [
    "spot_num_scaled_pca = pca.transform(spot_num_scaled)"
   ]
  },
  {
   "cell_type": "code",
   "execution_count": 46,
   "id": "096c4e2d",
   "metadata": {},
   "outputs": [
    {
     "ename": "NameError",
     "evalue": "name 'n_components' is not defined",
     "output_type": "error",
     "traceback": [
      "\u001b[1;31m---------------------------------------------------------------------------\u001b[0m",
      "\u001b[1;31mNameError\u001b[0m                                 Traceback (most recent call last)",
      "\u001b[1;32m~\\AppData\\Local\\Temp/ipykernel_6228/2778097696.py\u001b[0m in \u001b[0;36m<module>\u001b[1;34m\u001b[0m\n\u001b[0;32m      1\u001b[0m \u001b[1;32mfrom\u001b[0m \u001b[0msklearn\u001b[0m\u001b[1;33m.\u001b[0m\u001b[0mcluster\u001b[0m \u001b[1;32mimport\u001b[0m \u001b[0mKMeans\u001b[0m\u001b[1;33m\u001b[0m\u001b[1;33m\u001b[0m\u001b[0m\n\u001b[0;32m      2\u001b[0m \u001b[1;33m\u001b[0m\u001b[0m\n\u001b[1;32m----> 3\u001b[1;33m \u001b[0mkmeans\u001b[0m \u001b[1;33m=\u001b[0m \u001b[0mKMeans\u001b[0m\u001b[1;33m(\u001b[0m\u001b[0mn_clusters\u001b[0m\u001b[1;33m=\u001b[0m\u001b[0mn_components\u001b[0m\u001b[1;33m,\u001b[0m \u001b[0mrandom_state\u001b[0m\u001b[1;33m=\u001b[0m\u001b[1;36m0\u001b[0m\u001b[1;33m)\u001b[0m\u001b[1;33m\u001b[0m\u001b[1;33m\u001b[0m\u001b[0m\n\u001b[0m\u001b[0;32m      4\u001b[0m \u001b[0mkmeans\u001b[0m\u001b[1;33m.\u001b[0m\u001b[0mfit\u001b[0m\u001b[1;33m(\u001b[0m\u001b[0mX_prep\u001b[0m\u001b[1;33m)\u001b[0m\u001b[1;33m\u001b[0m\u001b[1;33m\u001b[0m\u001b[0m\n\u001b[0;32m      5\u001b[0m \u001b[1;33m\u001b[0m\u001b[0m\n",
      "\u001b[1;31mNameError\u001b[0m: name 'n_components' is not defined"
     ]
    }
   ],
   "source": [
    "from sklearn.cluster import KMeans\n",
    "\n",
    "kmeans = KMeans(n_clusters=9, random_state=0)\n",
    "kmeans.fit(X_prep)\n",
    "\n",
    "# Predicting / assigning the clusters:\n",
    "clusters = kmeans.predict(spot_num_scaled_pca)\n",
    "\n",
    "# Check the size of the clusters\n",
    "pd.Series(clusters).value_counts().sort_index()\n",
    "\n",
    "clusters\n",
    "\n",
    "plt.figure(figsize=(5, 5))\n",
    "plt.scatter(spot_num_scaled_pca[:, 0], spot_num_scaled_pca[:, 1], c=clusters,alpha=0.7)\n",
    "plt.show()"
   ]
  },
  {
   "cell_type": "code",
   "execution_count": null,
   "id": "55b09ba0",
   "metadata": {},
   "outputs": [],
   "source": []
  },
  {
   "cell_type": "code",
   "execution_count": null,
   "id": "38440f09",
   "metadata": {},
   "outputs": [],
   "source": []
  },
  {
   "cell_type": "code",
   "execution_count": 44,
   "id": "1e676c28",
   "metadata": {},
   "outputs": [
    {
     "ename": "NameError",
     "evalue": "name 'y' is not defined",
     "output_type": "error",
     "traceback": [
      "\u001b[1;31m---------------------------------------------------------------------------\u001b[0m",
      "\u001b[1;31mNameError\u001b[0m                                 Traceback (most recent call last)",
      "\u001b[1;32m~\\AppData\\Local\\Temp/ipykernel_6228/2436571175.py\u001b[0m in \u001b[0;36m<module>\u001b[1;34m\u001b[0m\n\u001b[1;32m----> 1\u001b[1;33m \u001b[0mplt\u001b[0m\u001b[1;33m.\u001b[0m\u001b[0mscatter\u001b[0m\u001b[1;33m(\u001b[0m\u001b[0mspot_num_scaled\u001b[0m\u001b[1;33m[\u001b[0m\u001b[1;33m:\u001b[0m\u001b[1;33m,\u001b[0m\u001b[1;36m0\u001b[0m\u001b[1;33m]\u001b[0m\u001b[1;33m,\u001b[0m\u001b[0mspot_num_scaled\u001b[0m\u001b[1;33m[\u001b[0m\u001b[1;33m:\u001b[0m\u001b[1;33m,\u001b[0m\u001b[1;36m1\u001b[0m\u001b[1;33m]\u001b[0m\u001b[1;33m,\u001b[0m \u001b[0mc\u001b[0m \u001b[1;33m=\u001b[0m \u001b[0my\u001b[0m\u001b[1;33m)\u001b[0m\u001b[1;33m\u001b[0m\u001b[1;33m\u001b[0m\u001b[0m\n\u001b[0m",
      "\u001b[1;31mNameError\u001b[0m: name 'y' is not defined"
     ]
    }
   ],
   "source": [
    "plt.scatter(spot_num_scaled[:,0],spot_num_scaled[:,1], c = y)"
   ]
  },
  {
   "cell_type": "code",
   "execution_count": null,
   "id": "631180c8",
   "metadata": {},
   "outputs": [],
   "source": []
  },
  {
   "cell_type": "code",
   "execution_count": null,
   "id": "87dc9d15",
   "metadata": {},
   "outputs": [],
   "source": []
  },
  {
   "cell_type": "code",
   "execution_count": null,
   "id": "686b74ed",
   "metadata": {},
   "outputs": [],
   "source": [
    "from sklearn.cluster import KMeans\n",
    "\n",
    "kmeans = KMeans(n_clusters=9, random_state=0)\n",
    "kmeans.fit(X_prep)\n",
    "\n",
    "# Predicting / assigning the clusters:\n",
    "clusters = kmeans.predict(X_prep)\n",
    "\n",
    "# Check the size of the clusters\n",
    "pd.Series(clusters).value_counts().sort_index()\n",
    "\n",
    "clusters\n",
    "\n",
    "plt.figure(figsize=(5, 5))\n",
    "plt.scatter(X_prep[:, 0], X_prep[:, 1], c=clusters,alpha=0.7)\n",
    "plt.show()"
   ]
  }
 ],
 "metadata": {
  "kernelspec": {
   "display_name": "Python 3 (ipykernel)",
   "language": "python",
   "name": "python3"
  },
  "language_info": {
   "codemirror_mode": {
    "name": "ipython",
    "version": 3
   },
   "file_extension": ".py",
   "mimetype": "text/x-python",
   "name": "python",
   "nbconvert_exporter": "python",
   "pygments_lexer": "ipython3",
   "version": "3.9.7"
  }
 },
 "nbformat": 4,
 "nbformat_minor": 5
}
