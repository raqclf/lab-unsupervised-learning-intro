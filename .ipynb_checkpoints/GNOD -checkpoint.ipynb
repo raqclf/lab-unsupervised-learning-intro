{
 "cells": [
  {
   "cell_type": "code",
   "execution_count": 4,
   "id": "cc721321",
   "metadata": {
    "scrolled": true
   },
   "outputs": [],
   "source": [
    "import pandas as pd\n",
    "import numpy as np\n",
    "import matplotlib.pyplot as plt\n",
    "%matplotlib inline\n",
    "\n",
    "from sklearn import cluster, datasets\n",
    "from sklearn.preprocessing import StandardScaler\n",
    "from sklearn.model_selection import train_test_split\n",
    "from matplotlib.lines import Line2D\n",
    "\n",
    "import spotipy\n",
    "from spotipy.oauth2 import SpotifyClientCredentials\n",
    "\n",
    "import random"
   ]
  },
  {
   "cell_type": "code",
   "execution_count": 5,
   "id": "3b08756a",
   "metadata": {
    "scrolled": true
   },
   "outputs": [],
   "source": [
    "spot = pd.read_csv(\"C:\\\\Users\\\\franc\\\\IH-Lab\\\\lab-api-wrappers\\\\df_song_features.csv\").drop('Unnamed: 0', axis =1) #Try my own list before the Kaggle joint"
   ]
  },
  {
   "cell_type": "code",
   "execution_count": null,
   "id": "1ae28aba",
   "metadata": {
    "scrolled": true
   },
   "outputs": [],
   "source": [
    "#get songs from Kaggle\n",
    "#kaggle = pd.read_csv(\"C:\\\\Users\\\\franc\\\\IH-Lab\\\\lab-api-wrappers\\\\SpotifyAudioFeaturesApril2019.csv\")"
   ]
  },
  {
   "cell_type": "markdown",
   "id": "7d2bf563",
   "metadata": {},
   "source": [
    "### GNOD 1.0"
   ]
  },
  {
   "cell_type": "code",
   "execution_count": 1,
   "id": "6e01a373",
   "metadata": {
    "scrolled": true
   },
   "outputs": [],
   "source": [
    "def gnod_1_0(hot):\n",
    "    import random\n",
    "    \n",
    "    #turn dataframes values into lower case:\n",
    "    hot_lower = hot.copy()\n",
    "    for column in hot_lower:\n",
    "        hot_lower[column] = hot_lower[column].str.lower()\n",
    "    \n",
    "    #create list of songs and artists in lower case:\n",
    "    song_list = list(hot_lower['title'])\n",
    "    singer_list = list(hot_lower['singer'])\n",
    "    play = True\n",
    "    \n",
    "    #program loop for using Gnod:\n",
    "    while play:\n",
    "        #Getting an artist or song input in either case format:\n",
    "        value = input(\"Please, enter a song or an artist.\").lower()\n",
    "        if value in song_list or value in singer_list:\n",
    "            print(\"Listen to\", random.choice(hot['title']),\", you'll love it!\")\n",
    "            buttom = input(\"Press Y for more recommendations, press N to quit Gnod.\").upper()\n",
    "            if buttom == 'N':\n",
    "                play = False\n",
    "        else:\n",
    "            print(\"Sorry, we have no recommendations for you.\")\n",
    "            buttom = input(\"Press Y to try again or N to quit Gnod.\").upper()\n",
    "            if  buttom == 'N':\n",
    "                play = False"
   ]
  },
  {
   "cell_type": "markdown",
   "id": "1a3374a6",
   "metadata": {},
   "source": [
    "### GNOD 2.0"
   ]
  },
  {
   "cell_type": "code",
   "execution_count": 10,
   "id": "1da79be9",
   "metadata": {},
   "outputs": [],
   "source": [
    "#Function that clusters a playlist dataframe \n",
    "def cluster(playlist):\n",
    "    from sklearn.cluster import KMeans\n",
    "    play_num = playlist.select_dtypes(np.number)\n",
    "    kmeans = KMeans(n_clusters=10, random_state=0)\n",
    "    kmeans.fit(play_num)\n",
    "    clusters = kmeans.predict(play_num)\n",
    "    playlist['clusters'] = clusters\n",
    "    return playlist"
   ]
  },
  {
   "cell_type": "code",
   "execution_count": null,
   "id": "c463b55e",
   "metadata": {},
   "outputs": [],
   "source": [
    "cluster()"
   ]
  },
  {
   "cell_type": "code",
   "execution_count": 7,
   "id": "d77ecaf0",
   "metadata": {
    "scrolled": true
   },
   "outputs": [],
   "source": [
    "#Function that searches for song and returns features as a dataframe\n",
    "def get_features(song):\n",
    "    #Initialize SpotiPy with user credentials\n",
    "    sp = spotipy.Spotify(auth_manager=SpotifyClientCredentials(client_id=secrets_dict['cid'],\n",
    "                                                           client_secret=secrets_dict['csecret']))\n",
    "    #Search for song and features in the API\n",
    "    results = sp.search(q=song, limit=1)\n",
    "    song_uri = results[\"tracks\"][\"items\"][0][\"uri\"]\n",
    "    features = sp.audio_features(song_uri)\n",
    "    features = flatten(features)\n",
    "\n",
    "    #Create a df for song's features\n",
    "    df = {'features', features}\n",
    "    song_feats = pd.DataFrame(dict(song_feats['features']))\n",
    "    \n",
    "    return song_feats "
   ]
  },
  {
   "cell_type": "code",
   "execution_count": 8,
   "id": "a14ae2ac",
   "metadata": {
    "scrolled": true
   },
   "outputs": [],
   "source": [
    "#Function that clusters and recommends a song according to the playlist's clusters\n",
    "def song_finder(song_feats):\n",
    "        song_cluster = kmeans.predict(song_feats)\n",
    "        find_song = np.where(playlist[playlist['clusters'] == song_cluster])\n",
    "        print(\"Listen to\", random.choice(find_song['title']),\", you'll love it!\")"
   ]
  },
  {
   "cell_type": "code",
   "execution_count": 9,
   "id": "6b380380",
   "metadata": {
    "scrolled": true
   },
   "outputs": [],
   "source": [
    "def gnod_2_0():\n",
    "    \n",
    "    play = True\n",
    "    \n",
    "    #turn dataframes values into lower case:\n",
    "    hot_lower = hot.copy()\n",
    "    for column in hot_lower:\n",
    "        hot_lower[column] = hot_lower[column].str.lower()\n",
    "    \n",
    "    #create list of songs and artists in lower case:\n",
    "    song_list = list(hot_lower['title'])\n",
    "    singer_list = list(hot_lower['singer'])\n",
    "    play = True\n",
    "    \n",
    "    #program loop for using Gnod:\n",
    "    while play:\n",
    "        #Getting an artist or song input in either case format:\n",
    "        value = input(\"Please, enter a song or an artist.\").lower()\n",
    "        if value in song_list or value in singer_list:\n",
    "            print(\"Listen to\", random.choice(hot['title']),\", you'll love it!\")\n",
    "            buttom = input(\"Press Y for more recommendations, press N to quit Gnod.\").upper()\n",
    "            if buttom == 'N':\n",
    "                play = False\n",
    "        else:\n",
    "            print(\"Sorry, we have no recommendations for you.\")\n",
    "            buttom = input(\"Press Y to try again or N to quit Gnod.\").upper()\n",
    "            if  buttom == 'N':\n",
    "                play = False\n",
    "        \n",
    "        play = False"
   ]
  },
  {
   "cell_type": "code",
   "execution_count": null,
   "id": "1e230a0a",
   "metadata": {
    "scrolled": true
   },
   "outputs": [],
   "source": [
    "    \n",
    "    \n",
    "    \n",
    "     results = sp.search(q= election, limit=1)\n",
    "        song_uri = results[\"tracks\"][\"items\"][0][\"uri\"]\n",
    "        audio_features = sp.audio_features(song_uri)\n",
    "        audio_features = pd.DataFrame.from_dict(data = audio_features, orient = 'columns')\n",
    "        audio_features_num = audio_features.select_dtypes(include = np.number)\n",
    "        audio_features = scaler.transform(audio_features_num)\n",
    "        song_prep_clus = kmeans.predict(audio_features)\n",
    "        random.seed()\n",
    "        random_index = random.randint(0, len(df_clustered['song'][df_clustered['clusters']== song_prep_clus[0]])-1)\n",
    "        print('Your song recomentation is:', df_clustered['song'][random_index], 'by', df_clustered['artist'][random_index])\n",
    "\n",
    "    "
   ]
  }
 ],
 "metadata": {
  "kernelspec": {
   "display_name": "Python 3 (ipykernel)",
   "language": "python",
   "name": "python3"
  },
  "language_info": {
   "codemirror_mode": {
    "name": "ipython",
    "version": 3
   },
   "file_extension": ".py",
   "mimetype": "text/x-python",
   "name": "python",
   "nbconvert_exporter": "python",
   "pygments_lexer": "ipython3",
   "version": "3.9.7"
  }
 },
 "nbformat": 4,
 "nbformat_minor": 5
}
