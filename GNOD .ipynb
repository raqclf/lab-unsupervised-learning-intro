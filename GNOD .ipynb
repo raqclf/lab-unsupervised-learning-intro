{
 "cells": [
  {
   "cell_type": "code",
   "execution_count": 137,
   "id": "cc721321",
   "metadata": {
    "scrolled": true
   },
   "outputs": [],
   "source": [
    "import pandas as pd\n",
    "import numpy as np\n",
    "import matplotlib.pyplot as plt\n",
    "%matplotlib inline\n",
    "\n",
    "from sklearn import cluster, datasets\n",
    "from sklearn.preprocessing import StandardScaler\n",
    "from sklearn.model_selection import train_test_split\n",
    "from matplotlib.lines import Line2D\n",
    "\n",
    "import spotipy\n",
    "from spotipy.oauth2 import SpotifyClientCredentials\n",
    "\n",
    "import random\n",
    "from sklearn.cluster import KMeans"
   ]
  },
  {
   "cell_type": "code",
   "execution_count": 138,
   "id": "e5b42d2e",
   "metadata": {},
   "outputs": [],
   "source": [
    "itunes = pd.read_csv(\"itunes.csv\").drop('Unnamed: 0', axis =1)"
   ]
  },
  {
   "cell_type": "code",
   "execution_count": 139,
   "id": "89b7de5b",
   "metadata": {},
   "outputs": [],
   "source": [
    "itunes.columns = ['song', 'artist']"
   ]
  },
  {
   "cell_type": "code",
   "execution_count": 140,
   "id": "58f6a988",
   "metadata": {},
   "outputs": [
    {
     "data": {
      "text/html": [
       "<div>\n",
       "<style scoped>\n",
       "    .dataframe tbody tr th:only-of-type {\n",
       "        vertical-align: middle;\n",
       "    }\n",
       "\n",
       "    .dataframe tbody tr th {\n",
       "        vertical-align: top;\n",
       "    }\n",
       "\n",
       "    .dataframe thead th {\n",
       "        text-align: right;\n",
       "    }\n",
       "</style>\n",
       "<table border=\"1\" class=\"dataframe\">\n",
       "  <thead>\n",
       "    <tr style=\"text-align: right;\">\n",
       "      <th></th>\n",
       "      <th>song</th>\n",
       "      <th>artist</th>\n",
       "    </tr>\n",
       "  </thead>\n",
       "  <tbody>\n",
       "    <tr>\n",
       "      <th>0</th>\n",
       "      <td>About Damn Time</td>\n",
       "      <td>Lizzo</td>\n",
       "    </tr>\n",
       "    <tr>\n",
       "      <th>1</th>\n",
       "      <td>This Love</td>\n",
       "      <td>Taylor Swift</td>\n",
       "    </tr>\n",
       "    <tr>\n",
       "      <th>2</th>\n",
       "      <td>Hold My Hand</td>\n",
       "      <td>Lady Gaga</td>\n",
       "    </tr>\n",
       "    <tr>\n",
       "      <th>3</th>\n",
       "      <td>As It Was</td>\n",
       "      <td>Harry Styles</td>\n",
       "    </tr>\n",
       "    <tr>\n",
       "      <th>4</th>\n",
       "      <td>First Class</td>\n",
       "      <td>Jack Harlow</td>\n",
       "    </tr>\n",
       "  </tbody>\n",
       "</table>\n",
       "</div>"
      ],
      "text/plain": [
       "              song        artist\n",
       "0  About Damn Time         Lizzo\n",
       "1        This Love  Taylor Swift\n",
       "2     Hold My Hand     Lady Gaga\n",
       "3        As It Was  Harry Styles\n",
       "4      First Class   Jack Harlow"
      ]
     },
     "execution_count": 140,
     "metadata": {},
     "output_type": "execute_result"
    }
   ],
   "source": [
    "itunes.head()"
   ]
  },
  {
   "cell_type": "code",
   "execution_count": 141,
   "id": "a971b478",
   "metadata": {},
   "outputs": [],
   "source": [
    "rstone = pd.read_csv(\"rstone.csv\").drop('Unnamed: 0', axis =1)"
   ]
  },
  {
   "cell_type": "code",
   "execution_count": 142,
   "id": "a02073ec",
   "metadata": {},
   "outputs": [],
   "source": [
    "rstone.columns = ['song', 'artist']"
   ]
  },
  {
   "cell_type": "code",
   "execution_count": 143,
   "id": "58379af5",
   "metadata": {},
   "outputs": [
    {
     "data": {
      "text/html": [
       "<div>\n",
       "<style scoped>\n",
       "    .dataframe tbody tr th:only-of-type {\n",
       "        vertical-align: middle;\n",
       "    }\n",
       "\n",
       "    .dataframe tbody tr th {\n",
       "        vertical-align: top;\n",
       "    }\n",
       "\n",
       "    .dataframe thead th {\n",
       "        text-align: right;\n",
       "    }\n",
       "</style>\n",
       "<table border=\"1\" class=\"dataframe\">\n",
       "  <thead>\n",
       "    <tr style=\"text-align: right;\">\n",
       "      <th></th>\n",
       "      <th>song</th>\n",
       "      <th>artist</th>\n",
       "    </tr>\n",
       "  </thead>\n",
       "  <tbody>\n",
       "    <tr>\n",
       "      <th>0</th>\n",
       "      <td>Like a Rolling Stone</td>\n",
       "      <td>Bob Dylan</td>\n",
       "    </tr>\n",
       "    <tr>\n",
       "      <th>1</th>\n",
       "      <td>(I Can’t Get No) Satisfaction</td>\n",
       "      <td>The Rolling Stones</td>\n",
       "    </tr>\n",
       "    <tr>\n",
       "      <th>2</th>\n",
       "      <td>Imagine</td>\n",
       "      <td>John Lennon</td>\n",
       "    </tr>\n",
       "    <tr>\n",
       "      <th>3</th>\n",
       "      <td>What’s Going On</td>\n",
       "      <td>Marvin Gaye</td>\n",
       "    </tr>\n",
       "    <tr>\n",
       "      <th>4</th>\n",
       "      <td>Respect</td>\n",
       "      <td>Aretha Franklin</td>\n",
       "    </tr>\n",
       "  </tbody>\n",
       "</table>\n",
       "</div>"
      ],
      "text/plain": [
       "                            song              artist\n",
       "0           Like a Rolling Stone           Bob Dylan\n",
       "1  (I Can’t Get No) Satisfaction  The Rolling Stones\n",
       "2                        Imagine         John Lennon\n",
       "3                What’s Going On         Marvin Gaye\n",
       "4                        Respect     Aretha Franklin"
      ]
     },
     "execution_count": 143,
     "metadata": {},
     "output_type": "execute_result"
    }
   ],
   "source": [
    "rstone.head()"
   ]
  },
  {
   "cell_type": "code",
   "execution_count": 144,
   "id": "6f74f986",
   "metadata": {},
   "outputs": [],
   "source": [
    "hot = pd.concat([itunes, rstone], axis =0).drop_duplicates().reset_index(drop=True)"
   ]
  },
  {
   "cell_type": "code",
   "execution_count": 145,
   "id": "3b08756a",
   "metadata": {
    "scrolled": true
   },
   "outputs": [],
   "source": [
    "spot = pd.read_csv(\"df_song_features.csv\").drop('Unnamed: 0', axis =1) #Try my own list before the Kaggle joint"
   ]
  },
  {
   "cell_type": "code",
   "execution_count": 146,
   "id": "20937166",
   "metadata": {},
   "outputs": [
    {
     "data": {
      "text/html": [
       "<div>\n",
       "<style scoped>\n",
       "    .dataframe tbody tr th:only-of-type {\n",
       "        vertical-align: middle;\n",
       "    }\n",
       "\n",
       "    .dataframe tbody tr th {\n",
       "        vertical-align: top;\n",
       "    }\n",
       "\n",
       "    .dataframe thead th {\n",
       "        text-align: right;\n",
       "    }\n",
       "</style>\n",
       "<table border=\"1\" class=\"dataframe\">\n",
       "  <thead>\n",
       "    <tr style=\"text-align: right;\">\n",
       "      <th></th>\n",
       "      <th>popularity</th>\n",
       "      <th>danceability</th>\n",
       "      <th>energy</th>\n",
       "      <th>key</th>\n",
       "      <th>loudness</th>\n",
       "      <th>mode</th>\n",
       "      <th>speechiness</th>\n",
       "      <th>acousticness</th>\n",
       "      <th>instrumentalness</th>\n",
       "      <th>liveness</th>\n",
       "      <th>valence</th>\n",
       "      <th>tempo</th>\n",
       "      <th>duration_ms</th>\n",
       "      <th>time_signature</th>\n",
       "    </tr>\n",
       "  </thead>\n",
       "  <tbody>\n",
       "    <tr>\n",
       "      <th>0</th>\n",
       "      <td>9</td>\n",
       "      <td>0.390</td>\n",
       "      <td>0.06920</td>\n",
       "      <td>0</td>\n",
       "      <td>-23.312</td>\n",
       "      <td>1</td>\n",
       "      <td>0.0905</td>\n",
       "      <td>0.4350</td>\n",
       "      <td>0.504000</td>\n",
       "      <td>0.0822</td>\n",
       "      <td>0.0433</td>\n",
       "      <td>76.465</td>\n",
       "      <td>740413</td>\n",
       "      <td>4</td>\n",
       "    </tr>\n",
       "    <tr>\n",
       "      <th>1</th>\n",
       "      <td>34</td>\n",
       "      <td>0.283</td>\n",
       "      <td>0.00966</td>\n",
       "      <td>0</td>\n",
       "      <td>-28.107</td>\n",
       "      <td>1</td>\n",
       "      <td>0.0327</td>\n",
       "      <td>0.9930</td>\n",
       "      <td>0.807000</td>\n",
       "      <td>0.0884</td>\n",
       "      <td>0.1080</td>\n",
       "      <td>103.468</td>\n",
       "      <td>259042</td>\n",
       "      <td>5</td>\n",
       "    </tr>\n",
       "    <tr>\n",
       "      <th>2</th>\n",
       "      <td>31</td>\n",
       "      <td>0.694</td>\n",
       "      <td>0.76100</td>\n",
       "      <td>5</td>\n",
       "      <td>-4.087</td>\n",
       "      <td>0</td>\n",
       "      <td>0.0372</td>\n",
       "      <td>0.4460</td>\n",
       "      <td>0.000000</td>\n",
       "      <td>0.2890</td>\n",
       "      <td>0.5500</td>\n",
       "      <td>114.947</td>\n",
       "      <td>208467</td>\n",
       "      <td>4</td>\n",
       "    </tr>\n",
       "    <tr>\n",
       "      <th>3</th>\n",
       "      <td>34</td>\n",
       "      <td>0.487</td>\n",
       "      <td>0.75000</td>\n",
       "      <td>0</td>\n",
       "      <td>-8.348</td>\n",
       "      <td>1</td>\n",
       "      <td>0.0516</td>\n",
       "      <td>0.0582</td>\n",
       "      <td>0.000008</td>\n",
       "      <td>0.2830</td>\n",
       "      <td>0.8230</td>\n",
       "      <td>127.769</td>\n",
       "      <td>138688</td>\n",
       "      <td>4</td>\n",
       "    </tr>\n",
       "    <tr>\n",
       "      <th>4</th>\n",
       "      <td>21</td>\n",
       "      <td>0.646</td>\n",
       "      <td>0.27900</td>\n",
       "      <td>4</td>\n",
       "      <td>-3.575</td>\n",
       "      <td>1</td>\n",
       "      <td>0.0545</td>\n",
       "      <td>0.1490</td>\n",
       "      <td>0.915000</td>\n",
       "      <td>0.0993</td>\n",
       "      <td>0.7150</td>\n",
       "      <td>120.063</td>\n",
       "      <td>147587</td>\n",
       "      <td>4</td>\n",
       "    </tr>\n",
       "    <tr>\n",
       "      <th>...</th>\n",
       "      <td>...</td>\n",
       "      <td>...</td>\n",
       "      <td>...</td>\n",
       "      <td>...</td>\n",
       "      <td>...</td>\n",
       "      <td>...</td>\n",
       "      <td>...</td>\n",
       "      <td>...</td>\n",
       "      <td>...</td>\n",
       "      <td>...</td>\n",
       "      <td>...</td>\n",
       "      <td>...</td>\n",
       "      <td>...</td>\n",
       "      <td>...</td>\n",
       "    </tr>\n",
       "    <tr>\n",
       "      <th>5882</th>\n",
       "      <td>31</td>\n",
       "      <td>0.571</td>\n",
       "      <td>0.75000</td>\n",
       "      <td>7</td>\n",
       "      <td>-5.987</td>\n",
       "      <td>0</td>\n",
       "      <td>0.0307</td>\n",
       "      <td>0.4190</td>\n",
       "      <td>0.000000</td>\n",
       "      <td>0.1040</td>\n",
       "      <td>0.5630</td>\n",
       "      <td>87.982</td>\n",
       "      <td>242867</td>\n",
       "      <td>4</td>\n",
       "    </tr>\n",
       "    <tr>\n",
       "      <th>5883</th>\n",
       "      <td>26</td>\n",
       "      <td>0.602</td>\n",
       "      <td>0.79500</td>\n",
       "      <td>2</td>\n",
       "      <td>-4.828</td>\n",
       "      <td>1</td>\n",
       "      <td>0.1110</td>\n",
       "      <td>0.0458</td>\n",
       "      <td>0.000000</td>\n",
       "      <td>0.1660</td>\n",
       "      <td>0.8580</td>\n",
       "      <td>127.993</td>\n",
       "      <td>149381</td>\n",
       "      <td>5</td>\n",
       "    </tr>\n",
       "    <tr>\n",
       "      <th>5884</th>\n",
       "      <td>2</td>\n",
       "      <td>0.866</td>\n",
       "      <td>0.69500</td>\n",
       "      <td>8</td>\n",
       "      <td>-7.347</td>\n",
       "      <td>1</td>\n",
       "      <td>0.0357</td>\n",
       "      <td>0.3350</td>\n",
       "      <td>0.884000</td>\n",
       "      <td>0.1260</td>\n",
       "      <td>0.8990</td>\n",
       "      <td>117.031</td>\n",
       "      <td>211160</td>\n",
       "      <td>4</td>\n",
       "    </tr>\n",
       "    <tr>\n",
       "      <th>5885</th>\n",
       "      <td>52</td>\n",
       "      <td>0.523</td>\n",
       "      <td>0.39100</td>\n",
       "      <td>4</td>\n",
       "      <td>-11.769</td>\n",
       "      <td>0</td>\n",
       "      <td>0.0300</td>\n",
       "      <td>0.4370</td>\n",
       "      <td>0.492000</td>\n",
       "      <td>0.2050</td>\n",
       "      <td>0.0378</td>\n",
       "      <td>109.952</td>\n",
       "      <td>169038</td>\n",
       "      <td>4</td>\n",
       "    </tr>\n",
       "    <tr>\n",
       "      <th>5886</th>\n",
       "      <td>23</td>\n",
       "      <td>0.739</td>\n",
       "      <td>0.80600</td>\n",
       "      <td>5</td>\n",
       "      <td>-9.050</td>\n",
       "      <td>1</td>\n",
       "      <td>0.0662</td>\n",
       "      <td>0.1490</td>\n",
       "      <td>0.677000</td>\n",
       "      <td>0.2640</td>\n",
       "      <td>0.9480</td>\n",
       "      <td>100.419</td>\n",
       "      <td>212933</td>\n",
       "      <td>4</td>\n",
       "    </tr>\n",
       "  </tbody>\n",
       "</table>\n",
       "<p>5887 rows × 14 columns</p>\n",
       "</div>"
      ],
      "text/plain": [
       "      popularity  danceability   energy  key  loudness  mode  speechiness  \\\n",
       "0              9         0.390  0.06920    0   -23.312     1       0.0905   \n",
       "1             34         0.283  0.00966    0   -28.107     1       0.0327   \n",
       "2             31         0.694  0.76100    5    -4.087     0       0.0372   \n",
       "3             34         0.487  0.75000    0    -8.348     1       0.0516   \n",
       "4             21         0.646  0.27900    4    -3.575     1       0.0545   \n",
       "...          ...           ...      ...  ...       ...   ...          ...   \n",
       "5882          31         0.571  0.75000    7    -5.987     0       0.0307   \n",
       "5883          26         0.602  0.79500    2    -4.828     1       0.1110   \n",
       "5884           2         0.866  0.69500    8    -7.347     1       0.0357   \n",
       "5885          52         0.523  0.39100    4   -11.769     0       0.0300   \n",
       "5886          23         0.739  0.80600    5    -9.050     1       0.0662   \n",
       "\n",
       "      acousticness  instrumentalness  liveness  valence    tempo  duration_ms  \\\n",
       "0           0.4350          0.504000    0.0822   0.0433   76.465       740413   \n",
       "1           0.9930          0.807000    0.0884   0.1080  103.468       259042   \n",
       "2           0.4460          0.000000    0.2890   0.5500  114.947       208467   \n",
       "3           0.0582          0.000008    0.2830   0.8230  127.769       138688   \n",
       "4           0.1490          0.915000    0.0993   0.7150  120.063       147587   \n",
       "...            ...               ...       ...      ...      ...          ...   \n",
       "5882        0.4190          0.000000    0.1040   0.5630   87.982       242867   \n",
       "5883        0.0458          0.000000    0.1660   0.8580  127.993       149381   \n",
       "5884        0.3350          0.884000    0.1260   0.8990  117.031       211160   \n",
       "5885        0.4370          0.492000    0.2050   0.0378  109.952       169038   \n",
       "5886        0.1490          0.677000    0.2640   0.9480  100.419       212933   \n",
       "\n",
       "      time_signature  \n",
       "0                  4  \n",
       "1                  5  \n",
       "2                  4  \n",
       "3                  4  \n",
       "4                  4  \n",
       "...              ...  \n",
       "5882               4  \n",
       "5883               5  \n",
       "5884               4  \n",
       "5885               4  \n",
       "5886               4  \n",
       "\n",
       "[5887 rows x 14 columns]"
      ]
     },
     "execution_count": 146,
     "metadata": {},
     "output_type": "execute_result"
    }
   ],
   "source": [
    "spot.select_dtypes(np.number)"
   ]
  },
  {
   "cell_type": "code",
   "execution_count": 147,
   "id": "1ae28aba",
   "metadata": {
    "scrolled": true
   },
   "outputs": [],
   "source": [
    "#get songs from Kaggle\n",
    "#kaggle = pd.read_csv(\"SpotifyAudioFeaturesApril2019.csv\")"
   ]
  },
  {
   "cell_type": "code",
   "execution_count": 148,
   "id": "fd43354f",
   "metadata": {},
   "outputs": [],
   "source": [
    "#Initialize SpotiPy with user credentials\n",
    "secrets_file = open(\"C:\\\\Users\\\\franc\\\\OneDrive\\\\Área de Trabalho\\Data Analytics\\\\Week 2\\\\6.05 API Wrappers, Spotipy\\\\secrets.txt\",\"r\")\n",
    "string = secrets_file.read()\n",
    "string.split('\\n')\n",
    "secrets_dict={}\n",
    "for line in string.split('\\n'):\n",
    "    if len(line) > 0:\n",
    "        secrets_dict[line.split(':')[0]]=line.split(':')[1]\n",
    "sp = spotipy.Spotify(auth_manager=SpotifyClientCredentials(client_id=secrets_dict['cid'],\n",
    "                                       client_secret=secrets_dict['csecret']))"
   ]
  },
  {
   "cell_type": "markdown",
   "id": "7d2bf563",
   "metadata": {},
   "source": [
    "### GNOD 1.0"
   ]
  },
  {
   "cell_type": "code",
   "execution_count": 149,
   "id": "6e01a373",
   "metadata": {
    "scrolled": true
   },
   "outputs": [],
   "source": [
    "def gnod_1_0(hot):\n",
    "    import random\n",
    "    \n",
    "    #turn dataframes values into lower case:\n",
    "    hot_lower = hot.copy()\n",
    "    for column in hot_lower:\n",
    "        hot_lower[column] = hot_lower[column].str.lower()\n",
    "    \n",
    "    #create list of songs and artists in lower case:\n",
    "    song_list = list(hot_lower['title'])\n",
    "    singer_list = list(hot_lower['singer'])\n",
    "    play = True\n",
    "    \n",
    "    #program loop for using Gnod:\n",
    "    while play:\n",
    "        #Getting an artist or song input in either case format:\n",
    "        value = input(\"Please, enter a song or an artist.\").lower()\n",
    "        if value in song_list or value in singer_list:\n",
    "            print(\"Listen to\", random.choice(hot['title']),\", you'll love it!\")\n",
    "            buttom = input(\"Press Y for more recommendations, press N to quit Gnod.\").upper()\n",
    "            if buttom == 'N':\n",
    "                play = False\n",
    "        else:\n",
    "            print(\"Sorry, we have no recommendations for you.\")\n",
    "            buttom = input(\"Press Y to try again or N to quit Gnod.\").upper()\n",
    "            if  buttom == 'N':\n",
    "                play = False"
   ]
  },
  {
   "cell_type": "markdown",
   "id": "1a3374a6",
   "metadata": {},
   "source": [
    "### GNOD 2.0"
   ]
  },
  {
   "cell_type": "code",
   "execution_count": 162,
   "id": "4e52c9c8",
   "metadata": {},
   "outputs": [],
   "source": [
    "def gnod_2_0(playlist):\n",
    "    \n",
    "    #Get clusters\n",
    "    play_num = playlist.select_dtypes(np.number)\n",
    "    scaler = StandardScaler().fit(play_num)\n",
    "    play_num = scaler.transform(play_num)\n",
    "    kmeans = KMeans(n_clusters=9, random_state=0)\n",
    "    kmeans.fit(play_num)\n",
    "    clusters = kmeans.predict(play_num)\n",
    "    play_ref = playlist.copy()\n",
    "    play_ref['clusters'] = clusters\n",
    "    \n",
    "    play = True \n",
    "    \n",
    "    while play:\n",
    "        #Get song and features\n",
    "        song = input(\"Please, enter a song.\")\n",
    "        results = sp.search(q=song, limit=1)\n",
    "        song_uri = results[\"tracks\"][\"items\"][0][\"uri\"]\n",
    "        popularity = results['tracks']['items'][0]['popularity']\n",
    "        features = sp.audio_features(song_uri)\n",
    "        features = pd.DataFrame(features)\n",
    "        features.insert(0, 'popularity', popularity)\n",
    "    \n",
    "        #Cluster new songs features and recommend\n",
    "        features_num = features.select_dtypes(np.number)\n",
    "        features_num = scaler.transform(features_num)\n",
    "        song_cluster = kmeans.predict(features_num)\n",
    "        random.seed()\n",
    "        random_song = random.randint(0, len(play_ref[play_ref['clusters'].isin([int(song_cluster)])])-1)\n",
    "        print(\"Listen to\",play_ref['song'][random_song], 'by', play_ref['artist'][random_song],\", you'll love it!\")\n",
    "        \n",
    "        buttom = input(\"Press Y for more recommendations, press N to quit Gnod.\").upper()\n",
    "        if buttom == 'N':\n",
    "            play = False  "
   ]
  },
  {
   "cell_type": "code",
   "execution_count": null,
   "id": "b0331aae",
   "metadata": {},
   "outputs": [
    {
     "name": "stdout",
     "output_type": "stream",
     "text": [
      "Please, enter a song.vampiro\n",
      "Listen to Your Deep Rest by The Hotelier , you'll love it!\n",
      "Press Y for more recommendations, press N to quit Gnod.y\n",
      "Please, enter a song.zombies\n",
      "Listen to Baz Amadi Aye Jane Man by Ahmad Zahir , you'll love it!\n"
     ]
    }
   ],
   "source": [
    "gnod_2_0(spot)"
   ]
  },
  {
   "cell_type": "markdown",
   "id": "8f44a0a5",
   "metadata": {},
   "source": [
    "## GNOD 2.01"
   ]
  },
  {
   "cell_type": "code",
   "execution_count": 22,
   "id": "8321c8b4",
   "metadata": {},
   "outputs": [],
   "source": [
    "#Function that clusters a playlist dataframe \n",
    "def cluster(playlist):\n",
    "    play_num = playlist.select_dtypes(np.number)\n",
    "    kmeans = KMeans(n_clusters=9, random_state=0)\n",
    "    kmeans.fit(play_num)\n",
    "    clusters = kmeans.predict(play_num)\n",
    "    play_ref = playlist.copy()\n",
    "    play_ref['clusters'] = clusters\n",
    "    return kmeans, play_ref;"
   ]
  },
  {
   "cell_type": "markdown",
   "id": "6e549742",
   "metadata": {},
   "source": [
    "kmeans, play_ref = cluster(spot)"
   ]
  },
  {
   "cell_type": "markdown",
   "id": "3c138d98",
   "metadata": {},
   "source": [
    "play_ref"
   ]
  },
  {
   "cell_type": "code",
   "execution_count": 23,
   "id": "d77ecaf0",
   "metadata": {
    "scrolled": true
   },
   "outputs": [],
   "source": [
    "#Function that searches for song and returns features as a dataframe\n",
    "def get_features(song):\n",
    "    #Search for song and features in the API\n",
    "    results = sp.search(q=song, limit=1)\n",
    "    song_uri = results[\"tracks\"][\"items\"][0][\"uri\"]\n",
    "    popularity = results['tracks']['items'][0]['popularity']\n",
    "    features = sp.audio_features(song_uri)\n",
    "    features = pd.DataFrame(features)\n",
    "    features.insert(0, 'popularity', popularity)\n",
    "    return features"
   ]
  },
  {
   "cell_type": "markdown",
   "id": "1cc0186a",
   "metadata": {},
   "source": [
    "features = get_features('vampiro')"
   ]
  },
  {
   "cell_type": "markdown",
   "id": "b4de7ce2",
   "metadata": {},
   "source": [
    "features"
   ]
  },
  {
   "cell_type": "code",
   "execution_count": 24,
   "id": "a14ae2ac",
   "metadata": {
    "scrolled": true
   },
   "outputs": [],
   "source": [
    "#Function that clusters and recommends a song according to the playlist's clusters\n",
    "def song_finder(features, playlist):\n",
    "    features_num = features.select_dtypes(np.number)\n",
    "    song_cluster = kmeans.predict(features_num)\n",
    "    find_song = play_ref[play_ref['clusters'].isin([int(song_cluster)])]\n",
    "    rand_song = random.choice(find_song['song'])\n",
    "    print(\"Listen to\", rand_song,\", you'll love it!\")"
   ]
  },
  {
   "cell_type": "code",
   "execution_count": 25,
   "id": "87df4170",
   "metadata": {},
   "outputs": [],
   "source": [
    "def lower(hot):\n",
    "    hot_lower = hot.copy()\n",
    "    for column in hot_lower:\n",
    "        hot_lower[column] = hot_lower[column].str.lower()\n",
    "    return hot_lower"
   ]
  },
  {
   "cell_type": "code",
   "execution_count": 26,
   "id": "737114e5",
   "metadata": {},
   "outputs": [],
   "source": [
    "#Recommend song from hot songs:\n",
    "def recommend_hot(hot):\n",
    "    random_song = random.choice(hot['song'])\n",
    "    artist = hot.loc[hot['song'] == random_song, 'artist'].iloc[0]\n",
    "    print(\"Listen to \\\"\"+ random_song + \"\\\" by \" + artist + \", you'll love it!\")"
   ]
  },
  {
   "cell_type": "code",
   "execution_count": 27,
   "id": "614e80f1",
   "metadata": {
    "scrolled": true
   },
   "outputs": [],
   "source": [
    "def gnod_2_1(playlist, hot):\n",
    "    \n",
    "    hot_lower = lower(hot)\n",
    "    hot_list = list(hot_lower['song'])\n",
    "    hot_artist = list(hot_lower['artist'])\n",
    "    play = True\n",
    "    \n",
    "    #program loop for using Gnod:\n",
    "    while play:\n",
    "        #Getting an artist or song input in either case format:\n",
    "        song = input(\"Please, enter a song or an artist.\").lower()\n",
    "        \n",
    "        #Search for hot songs:\n",
    "        if song in hot_list or song in hot_artist:\n",
    "            recommend_hot(hot)\n",
    "            buttom = input(\"Press Y for more recommendations, press N to quit Gnod.\").upper()\n",
    "            if buttom == 'N':\n",
    "                play = False\n",
    "        else:\n",
    "            kmeans, play_ref = cluster(playlist)\n",
    "            features = get_features(song)\n",
    "            song_finder(features, play_ref)\n",
    "            buttom = input(\"Press Y for more recommendations, press N to quit Gnod.\").upper()\n",
    "            if buttom == 'N':\n",
    "                play = False\n",
    "            "
   ]
  },
  {
   "cell_type": "code",
   "execution_count": 28,
   "id": "341e5e96",
   "metadata": {},
   "outputs": [
    {
     "ename": "KeyboardInterrupt",
     "evalue": "Interrupted by user",
     "output_type": "error",
     "traceback": [
      "\u001b[1;31m---------------------------------------------------------------------------\u001b[0m",
      "\u001b[1;31mKeyboardInterrupt\u001b[0m                         Traceback (most recent call last)",
      "\u001b[1;32m~\\AppData\\Local\\Temp/ipykernel_7128/2099230128.py\u001b[0m in \u001b[0;36m<module>\u001b[1;34m\u001b[0m\n\u001b[1;32m----> 1\u001b[1;33m \u001b[0mgnod_2_0\u001b[0m\u001b[1;33m(\u001b[0m\u001b[0mspot\u001b[0m\u001b[1;33m,\u001b[0m \u001b[0mhot\u001b[0m\u001b[1;33m)\u001b[0m\u001b[1;33m\u001b[0m\u001b[1;33m\u001b[0m\u001b[0m\n\u001b[0m",
      "\u001b[1;32m~\\AppData\\Local\\Temp/ipykernel_7128/2540570957.py\u001b[0m in \u001b[0;36mgnod_2_0\u001b[1;34m(playlist, hot)\u001b[0m\n\u001b[0;32m      9\u001b[0m     \u001b[1;32mwhile\u001b[0m \u001b[0mplay\u001b[0m\u001b[1;33m:\u001b[0m\u001b[1;33m\u001b[0m\u001b[1;33m\u001b[0m\u001b[0m\n\u001b[0;32m     10\u001b[0m         \u001b[1;31m#Getting an artist or song input in either case format:\u001b[0m\u001b[1;33m\u001b[0m\u001b[1;33m\u001b[0m\u001b[0m\n\u001b[1;32m---> 11\u001b[1;33m         \u001b[0msong\u001b[0m \u001b[1;33m=\u001b[0m \u001b[0minput\u001b[0m\u001b[1;33m(\u001b[0m\u001b[1;34m\"Please, enter a song or an artist.\"\u001b[0m\u001b[1;33m)\u001b[0m\u001b[1;33m.\u001b[0m\u001b[0mlower\u001b[0m\u001b[1;33m(\u001b[0m\u001b[1;33m)\u001b[0m\u001b[1;33m\u001b[0m\u001b[1;33m\u001b[0m\u001b[0m\n\u001b[0m\u001b[0;32m     12\u001b[0m \u001b[1;33m\u001b[0m\u001b[0m\n\u001b[0;32m     13\u001b[0m         \u001b[1;31m#Search for hot songs:\u001b[0m\u001b[1;33m\u001b[0m\u001b[1;33m\u001b[0m\u001b[0m\n",
      "\u001b[1;32m~\\anaconda3\\lib\\site-packages\\ipykernel\\kernelbase.py\u001b[0m in \u001b[0;36mraw_input\u001b[1;34m(self, prompt)\u001b[0m\n\u001b[0;32m   1004\u001b[0m                 \u001b[1;34m\"raw_input was called, but this frontend does not support input requests.\"\u001b[0m\u001b[1;33m\u001b[0m\u001b[1;33m\u001b[0m\u001b[0m\n\u001b[0;32m   1005\u001b[0m             )\n\u001b[1;32m-> 1006\u001b[1;33m         return self._input_request(\n\u001b[0m\u001b[0;32m   1007\u001b[0m             \u001b[0mstr\u001b[0m\u001b[1;33m(\u001b[0m\u001b[0mprompt\u001b[0m\u001b[1;33m)\u001b[0m\u001b[1;33m,\u001b[0m\u001b[1;33m\u001b[0m\u001b[1;33m\u001b[0m\u001b[0m\n\u001b[0;32m   1008\u001b[0m             \u001b[0mself\u001b[0m\u001b[1;33m.\u001b[0m\u001b[0m_parent_ident\u001b[0m\u001b[1;33m[\u001b[0m\u001b[1;34m\"shell\"\u001b[0m\u001b[1;33m]\u001b[0m\u001b[1;33m,\u001b[0m\u001b[1;33m\u001b[0m\u001b[1;33m\u001b[0m\u001b[0m\n",
      "\u001b[1;32m~\\anaconda3\\lib\\site-packages\\ipykernel\\kernelbase.py\u001b[0m in \u001b[0;36m_input_request\u001b[1;34m(self, prompt, ident, parent, password)\u001b[0m\n\u001b[0;32m   1049\u001b[0m             \u001b[1;32mexcept\u001b[0m \u001b[0mKeyboardInterrupt\u001b[0m\u001b[1;33m:\u001b[0m\u001b[1;33m\u001b[0m\u001b[1;33m\u001b[0m\u001b[0m\n\u001b[0;32m   1050\u001b[0m                 \u001b[1;31m# re-raise KeyboardInterrupt, to truncate traceback\u001b[0m\u001b[1;33m\u001b[0m\u001b[1;33m\u001b[0m\u001b[0m\n\u001b[1;32m-> 1051\u001b[1;33m                 \u001b[1;32mraise\u001b[0m \u001b[0mKeyboardInterrupt\u001b[0m\u001b[1;33m(\u001b[0m\u001b[1;34m\"Interrupted by user\"\u001b[0m\u001b[1;33m)\u001b[0m \u001b[1;32mfrom\u001b[0m \u001b[1;32mNone\u001b[0m\u001b[1;33m\u001b[0m\u001b[1;33m\u001b[0m\u001b[0m\n\u001b[0m\u001b[0;32m   1052\u001b[0m             \u001b[1;32mexcept\u001b[0m \u001b[0mException\u001b[0m\u001b[1;33m:\u001b[0m\u001b[1;33m\u001b[0m\u001b[1;33m\u001b[0m\u001b[0m\n\u001b[0;32m   1053\u001b[0m                 \u001b[0mself\u001b[0m\u001b[1;33m.\u001b[0m\u001b[0mlog\u001b[0m\u001b[1;33m.\u001b[0m\u001b[0mwarning\u001b[0m\u001b[1;33m(\u001b[0m\u001b[1;34m\"Invalid Message:\"\u001b[0m\u001b[1;33m,\u001b[0m \u001b[0mexc_info\u001b[0m\u001b[1;33m=\u001b[0m\u001b[1;32mTrue\u001b[0m\u001b[1;33m)\u001b[0m\u001b[1;33m\u001b[0m\u001b[1;33m\u001b[0m\u001b[0m\n",
      "\u001b[1;31mKeyboardInterrupt\u001b[0m: Interrupted by user"
     ]
    }
   ],
   "source": [
    "gnod_2_0(spot, hot)"
   ]
  },
  {
   "cell_type": "code",
   "execution_count": null,
   "id": "44371de1",
   "metadata": {},
   "outputs": [],
   "source": []
  },
  {
   "cell_type": "code",
   "execution_count": null,
   "id": "e5eb2204",
   "metadata": {},
   "outputs": [],
   "source": []
  },
  {
   "cell_type": "code",
   "execution_count": null,
   "id": "60d26f89",
   "metadata": {},
   "outputs": [],
   "source": []
  },
  {
   "cell_type": "code",
   "execution_count": null,
   "id": "0d805442",
   "metadata": {},
   "outputs": [],
   "source": []
  },
  {
   "cell_type": "code",
   "execution_count": null,
   "id": "7e47832d",
   "metadata": {},
   "outputs": [],
   "source": []
  }
 ],
 "metadata": {
  "kernelspec": {
   "display_name": "Python 3 (ipykernel)",
   "language": "python",
   "name": "python3"
  },
  "language_info": {
   "codemirror_mode": {
    "name": "ipython",
    "version": 3
   },
   "file_extension": ".py",
   "mimetype": "text/x-python",
   "name": "python",
   "nbconvert_exporter": "python",
   "pygments_lexer": "ipython3",
   "version": "3.9.7"
  }
 },
 "nbformat": 4,
 "nbformat_minor": 5
}
