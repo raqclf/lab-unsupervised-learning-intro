{
 "cells": [
  {
   "cell_type": "code",
   "execution_count": 132,
   "id": "cc721321",
   "metadata": {
    "scrolled": true
   },
   "outputs": [],
   "source": [
    "import pandas as pd\n",
    "import numpy as np\n",
    "import matplotlib.pyplot as plt\n",
    "%matplotlib inline\n",
    "\n",
    "from sklearn import cluster, datasets\n",
    "from sklearn.preprocessing import StandardScaler\n",
    "from sklearn.model_selection import train_test_split\n",
    "from matplotlib.lines import Line2D\n",
    "\n",
    "import spotipy\n",
    "from spotipy.oauth2 import SpotifyClientCredentials\n",
    "\n",
    "import random\n",
    "from sklearn.cluster import KMeans"
   ]
  },
  {
   "cell_type": "code",
   "execution_count": null,
   "id": "0f7e172b",
   "metadata": {},
   "outputs": [],
   "source": [
    "hot = "
   ]
  },
  {
   "cell_type": "code",
   "execution_count": 222,
   "id": "3b08756a",
   "metadata": {
    "scrolled": true
   },
   "outputs": [],
   "source": [
    "spot = pd.read_csv(\"C:\\\\Users\\\\franc\\\\IH-Lab\\\\lab-api-wrappers\\\\df_song_features.csv\").drop('Unnamed: 0', axis =1) #Try my own list before the Kaggle joint"
   ]
  },
  {
   "cell_type": "code",
   "execution_count": 134,
   "id": "1ae28aba",
   "metadata": {
    "scrolled": true
   },
   "outputs": [],
   "source": [
    "#get songs from Kaggle\n",
    "#kaggle = pd.read_csv(\"C:\\\\Users\\\\franc\\\\IH-Lab\\\\lab-api-wrappers\\\\SpotifyAudioFeaturesApril2019.csv\")"
   ]
  },
  {
   "cell_type": "code",
   "execution_count": 135,
   "id": "f683279b",
   "metadata": {},
   "outputs": [],
   "source": [
    "#Initialize SpotiPy with user credentials\n",
    "secrets_file = open(\"C:\\\\Users\\\\franc\\\\OneDrive\\\\Área de Trabalho\\Data Analytics\\\\Week 2\\\\6.05 API Wrappers, Spotipy\\\\secrets.txt\",\"r\")\n",
    "string = secrets_file.read()\n",
    "string.split('\\n')\n",
    "secrets_dict={}\n",
    "for line in string.split('\\n'):\n",
    "    if len(line) > 0:\n",
    "        secrets_dict[line.split(':')[0]]=line.split(':')[1]\n",
    "sp = spotipy.Spotify(auth_manager=SpotifyClientCredentials(client_id=secrets_dict['cid'],\n",
    "                                       client_secret=secrets_dict['csecret']))"
   ]
  },
  {
   "cell_type": "markdown",
   "id": "7d2bf563",
   "metadata": {},
   "source": [
    "### GNOD 1.0"
   ]
  },
  {
   "cell_type": "code",
   "execution_count": null,
   "id": "6e01a373",
   "metadata": {
    "scrolled": true
   },
   "outputs": [],
   "source": [
    "def gnod_1_0(hot):\n",
    "    import random\n",
    "    \n",
    "    #turn dataframes values into lower case:\n",
    "    hot_lower = hot.copy()\n",
    "    for column in hot_lower:\n",
    "        hot_lower[column] = hot_lower[column].str.lower()\n",
    "    \n",
    "    #create list of songs and artists in lower case:\n",
    "    song_list = list(hot_lower['title'])\n",
    "    singer_list = list(hot_lower['singer'])\n",
    "    play = True\n",
    "    \n",
    "    #program loop for using Gnod:\n",
    "    while play:\n",
    "        #Getting an artist or song input in either case format:\n",
    "        value = input(\"Please, enter a song or an artist.\").lower()\n",
    "        if value in song_list or value in singer_list:\n",
    "            print(\"Listen to\", random.choice(hot['title']),\", you'll love it!\")\n",
    "            buttom = input(\"Press Y for more recommendations, press N to quit Gnod.\").upper()\n",
    "            if buttom == 'N':\n",
    "                play = False\n",
    "        else:\n",
    "            print(\"Sorry, we have no recommendations for you.\")\n",
    "            buttom = input(\"Press Y to try again or N to quit Gnod.\").upper()\n",
    "            if  buttom == 'N':\n",
    "                play = False"
   ]
  },
  {
   "cell_type": "markdown",
   "id": "1a3374a6",
   "metadata": {},
   "source": [
    "### GNOD 2.0"
   ]
  },
  {
   "cell_type": "code",
   "execution_count": 136,
   "id": "e15a5d5d",
   "metadata": {},
   "outputs": [],
   "source": [
    "#Function that clusters a playlist dataframe \n",
    "def cluster(playlist):\n",
    "    play_num = playlist.select_dtypes(np.number)\n",
    "    kmeans = KMeans(n_clusters=10, random_state=0)\n",
    "    kmeans.fit(play_num)\n",
    "    clusters = kmeans.predict(play_num)\n",
    "    playlist['clusters'] = clusters\n",
    "    return kmeans, playlist;"
   ]
  },
  {
   "cell_type": "code",
   "execution_count": 137,
   "id": "e9b66c32",
   "metadata": {},
   "outputs": [],
   "source": [
    "kmeans, spot = cluster(spot)"
   ]
  },
  {
   "cell_type": "code",
   "execution_count": 211,
   "id": "d77ecaf0",
   "metadata": {
    "scrolled": true
   },
   "outputs": [],
   "source": [
    "#Function that searches for song and returns features as a dataframe\n",
    "def get_features(song):\n",
    "    #Search for song and features in the API\n",
    "    results = sp.search(q=song, limit=1)\n",
    "    song_uri = results[\"tracks\"][\"items\"][0][\"uri\"]\n",
    "    popularity = results['tracks']['items'][0]['popularity']\n",
    "    features = sp.audio_features(song_uri)\n",
    "    features = pd.DataFrame(features)\n",
    "    features.insert(0, 'popularity', popularity)\n",
    "    return features"
   ]
  },
  {
   "cell_type": "code",
   "execution_count": 212,
   "id": "60ca8274",
   "metadata": {},
   "outputs": [],
   "source": [
    "song = \"Vampiro\""
   ]
  },
  {
   "cell_type": "code",
   "execution_count": 213,
   "id": "f780bd62",
   "metadata": {},
   "outputs": [],
   "source": [
    "features = get_features(song)"
   ]
  },
  {
   "cell_type": "code",
   "execution_count": 214,
   "id": "56f3af62",
   "metadata": {},
   "outputs": [
    {
     "data": {
      "text/html": [
       "<div>\n",
       "<style scoped>\n",
       "    .dataframe tbody tr th:only-of-type {\n",
       "        vertical-align: middle;\n",
       "    }\n",
       "\n",
       "    .dataframe tbody tr th {\n",
       "        vertical-align: top;\n",
       "    }\n",
       "\n",
       "    .dataframe thead th {\n",
       "        text-align: right;\n",
       "    }\n",
       "</style>\n",
       "<table border=\"1\" class=\"dataframe\">\n",
       "  <thead>\n",
       "    <tr style=\"text-align: right;\">\n",
       "      <th></th>\n",
       "      <th>popularity</th>\n",
       "      <th>danceability</th>\n",
       "      <th>energy</th>\n",
       "      <th>key</th>\n",
       "      <th>loudness</th>\n",
       "      <th>mode</th>\n",
       "      <th>speechiness</th>\n",
       "      <th>acousticness</th>\n",
       "      <th>instrumentalness</th>\n",
       "      <th>liveness</th>\n",
       "      <th>valence</th>\n",
       "      <th>tempo</th>\n",
       "      <th>type</th>\n",
       "      <th>id</th>\n",
       "      <th>uri</th>\n",
       "      <th>track_href</th>\n",
       "      <th>analysis_url</th>\n",
       "      <th>duration_ms</th>\n",
       "      <th>time_signature</th>\n",
       "    </tr>\n",
       "  </thead>\n",
       "  <tbody>\n",
       "    <tr>\n",
       "      <th>0</th>\n",
       "      <td>82</td>\n",
       "      <td>0.782</td>\n",
       "      <td>0.643</td>\n",
       "      <td>8</td>\n",
       "      <td>-4.956</td>\n",
       "      <td>0</td>\n",
       "      <td>0.0438</td>\n",
       "      <td>0.0136</td>\n",
       "      <td>0</td>\n",
       "      <td>0.0654</td>\n",
       "      <td>0.627</td>\n",
       "      <td>114.994</td>\n",
       "      <td>audio_features</td>\n",
       "      <td>6bTdZ7xfKp3NqqADJ8HLyj</td>\n",
       "      <td>spotify:track:6bTdZ7xfKp3NqqADJ8HLyj</td>\n",
       "      <td>https://api.spotify.com/v1/tracks/6bTdZ7xfKp3N...</td>\n",
       "      <td>https://api.spotify.com/v1/audio-analysis/6bTd...</td>\n",
       "      <td>250435</td>\n",
       "      <td>4</td>\n",
       "    </tr>\n",
       "  </tbody>\n",
       "</table>\n",
       "</div>"
      ],
      "text/plain": [
       "   popularity  danceability  energy  key  loudness  mode  speechiness  \\\n",
       "0          82         0.782   0.643    8    -4.956     0       0.0438   \n",
       "\n",
       "   acousticness  instrumentalness  liveness  valence    tempo            type  \\\n",
       "0        0.0136                 0    0.0654    0.627  114.994  audio_features   \n",
       "\n",
       "                       id                                   uri  \\\n",
       "0  6bTdZ7xfKp3NqqADJ8HLyj  spotify:track:6bTdZ7xfKp3NqqADJ8HLyj   \n",
       "\n",
       "                                          track_href  \\\n",
       "0  https://api.spotify.com/v1/tracks/6bTdZ7xfKp3N...   \n",
       "\n",
       "                                        analysis_url  duration_ms  \\\n",
       "0  https://api.spotify.com/v1/audio-analysis/6bTd...       250435   \n",
       "\n",
       "   time_signature  \n",
       "0               4  "
      ]
     },
     "execution_count": 214,
     "metadata": {},
     "output_type": "execute_result"
    }
   ],
   "source": [
    "features"
   ]
  },
  {
   "cell_type": "code",
   "execution_count": 232,
   "id": "a14ae2ac",
   "metadata": {
    "scrolled": true
   },
   "outputs": [],
   "source": [
    "#Function that clusters and recommends a song according to the playlist's clusters\n",
    "def song_finder(features, playlist):\n",
    "    features_num = features.select_dtypes(np.number)\n",
    "    song_cluster = kmeans.predict(features_num)\n",
    "    find_song = playlist[playlist['clusters'].isin([0])]\n",
    "    print(\"Listen to\", random.choice(find_song['song']),\", you'll love it!\")"
   ]
  },
  {
   "cell_type": "code",
   "execution_count": 239,
   "id": "f674c38d",
   "metadata": {},
   "outputs": [],
   "source": [
    "#Recommend song from hot songs:\n",
    "def recommend_hot(hot):\n",
    "    hot_lower = hot.copy()\n",
    "    for column in hot_lower:\n",
    "        hot_lower[column] = hot_lower[column].str.lower()\n",
    "    \n",
    "    #create list of songs and artists in lower case:\n",
    "    song_list = list(hot_lower['song'])\n",
    "    singer_list = list(hot_lower['artist'])\n",
    "    \n",
    "    #Getting an artist or song input in either case format:\n",
    "    value = input(\"Please, enter a song or an artist.\").lower()\n",
    "    if value in song_list or value in singer_list:\n",
    "        print(\"Listen to\", random.choice(hot['song']),\", you'll love it!\")"
   ]
  },
  {
   "cell_type": "code",
   "execution_count": null,
   "id": "8f7bf80c",
   "metadata": {},
   "outputs": [],
   "source": [
    "song = input(\"Please, enter a song.\").lower()\n",
    "        if (hot['song'].isin([song])) == True:\n",
    "            recommend_hot(hot):"
   ]
  },
  {
   "cell_type": "code",
   "execution_count": 243,
   "id": "c379775e",
   "metadata": {
    "scrolled": true
   },
   "outputs": [
    {
     "name": "stdout",
     "output_type": "stream",
     "text": [
      "Please, enter a song.Vampiro\n"
     ]
    },
    {
     "ename": "NameError",
     "evalue": "name 'hot' is not defined",
     "output_type": "error",
     "traceback": [
      "\u001b[1;31m---------------------------------------------------------------------------\u001b[0m",
      "\u001b[1;31mNameError\u001b[0m                                 Traceback (most recent call last)",
      "\u001b[1;32m~\\AppData\\Local\\Temp/ipykernel_10264/3830369375.py\u001b[0m in \u001b[0;36m<module>\u001b[1;34m\u001b[0m\n\u001b[0;32m      7\u001b[0m         \u001b[1;31m#Getting an artist or song input in either case format:\u001b[0m\u001b[1;33m\u001b[0m\u001b[1;33m\u001b[0m\u001b[0m\n\u001b[0;32m      8\u001b[0m \u001b[0msong\u001b[0m \u001b[1;33m=\u001b[0m \u001b[0minput\u001b[0m\u001b[1;33m(\u001b[0m\u001b[1;34m\"Please, enter a song.\"\u001b[0m\u001b[1;33m)\u001b[0m\u001b[1;33m.\u001b[0m\u001b[0mlower\u001b[0m\u001b[1;33m(\u001b[0m\u001b[1;33m)\u001b[0m\u001b[1;33m\u001b[0m\u001b[1;33m\u001b[0m\u001b[0m\n\u001b[1;32m----> 9\u001b[1;33m \u001b[1;32mif\u001b[0m \u001b[1;33m(\u001b[0m\u001b[0mhot\u001b[0m\u001b[1;33m[\u001b[0m\u001b[1;34m'song'\u001b[0m\u001b[1;33m]\u001b[0m\u001b[1;33m.\u001b[0m\u001b[0misin\u001b[0m\u001b[1;33m(\u001b[0m\u001b[1;33m[\u001b[0m\u001b[0msong\u001b[0m\u001b[1;33m]\u001b[0m\u001b[1;33m)\u001b[0m\u001b[1;33m)\u001b[0m \u001b[1;33m==\u001b[0m \u001b[1;32mTrue\u001b[0m\u001b[1;33m:\u001b[0m\u001b[1;33m\u001b[0m\u001b[1;33m\u001b[0m\u001b[0m\n\u001b[0m\u001b[0;32m     10\u001b[0m     \u001b[0mrecommend_hot\u001b[0m\u001b[1;33m(\u001b[0m\u001b[0mhot\u001b[0m\u001b[1;33m)\u001b[0m\u001b[1;33m\u001b[0m\u001b[1;33m\u001b[0m\u001b[0m\n\u001b[0;32m     11\u001b[0m  \u001b[1;31m#       else:\u001b[0m\u001b[1;33m\u001b[0m\u001b[1;33m\u001b[0m\u001b[0m\n",
      "\u001b[1;31mNameError\u001b[0m: name 'hot' is not defined"
     ]
    }
   ],
   "source": [
    "def gnod_2_0(playlist, hot):\n",
    "    \n",
    "    play = True\n",
    "    \n",
    "    program loop for using Gnod:\n",
    "    while play:\n",
    "        #Getting an artist or song input in either case format:\n",
    "        song = input(\"Please, enter a song.\").lower()\n",
    "        if (hot['song'].isin([song])) == True:\n",
    "        recommend_hot(hot)\n",
    "        else:\n",
    "            kmeans, playlist = cluster(playlist)\n",
    "            features = get_features(song)\n",
    "            song_finder(features, playlist)\n",
    "\n",
    "        buttom = input(\"Press Y for more recommendations, press N to quit Gnod.\").upper()\n",
    "        if buttom == 'N':\n",
    "            play = False"
   ]
  },
  {
   "cell_type": "code",
   "execution_count": null,
   "id": "ba4e1b18",
   "metadata": {},
   "outputs": [],
   "source": []
  },
  {
   "cell_type": "code",
   "execution_count": 236,
   "id": "6a0ba7be",
   "metadata": {},
   "outputs": [
    {
     "name": "stdout",
     "output_type": "stream",
     "text": [
      "Please, enter a song.reflektor\n",
      "Listen to Malere , you'll love it!\n",
      "Press Y for more recommendations, press N to quit Gnod.y\n",
      "Please, enter a song.Vampiro\n",
      "Listen to Kluziště , you'll love it!\n"
     ]
    },
    {
     "ename": "KeyboardInterrupt",
     "evalue": "Interrupted by user",
     "output_type": "error",
     "traceback": [
      "\u001b[1;31m---------------------------------------------------------------------------\u001b[0m",
      "\u001b[1;31mKeyboardInterrupt\u001b[0m                         Traceback (most recent call last)",
      "\u001b[1;32m~\\AppData\\Local\\Temp/ipykernel_10264/2063727759.py\u001b[0m in \u001b[0;36m<module>\u001b[1;34m\u001b[0m\n\u001b[1;32m----> 1\u001b[1;33m \u001b[0mgnod_2_0\u001b[0m\u001b[1;33m(\u001b[0m\u001b[0mspot\u001b[0m\u001b[1;33m)\u001b[0m\u001b[1;33m\u001b[0m\u001b[1;33m\u001b[0m\u001b[0m\n\u001b[0m",
      "\u001b[1;32m~\\AppData\\Local\\Temp/ipykernel_10264/2692111.py\u001b[0m in \u001b[0;36mgnod_2_0\u001b[1;34m(playlist)\u001b[0m\n\u001b[0;32m     11\u001b[0m         \u001b[0msong_finder\u001b[0m\u001b[1;33m(\u001b[0m\u001b[0mfeatures\u001b[0m\u001b[1;33m,\u001b[0m \u001b[0mplaylist\u001b[0m\u001b[1;33m)\u001b[0m\u001b[1;33m\u001b[0m\u001b[1;33m\u001b[0m\u001b[0m\n\u001b[0;32m     12\u001b[0m \u001b[1;33m\u001b[0m\u001b[0m\n\u001b[1;32m---> 13\u001b[1;33m         \u001b[0mbuttom\u001b[0m \u001b[1;33m=\u001b[0m \u001b[0minput\u001b[0m\u001b[1;33m(\u001b[0m\u001b[1;34m\"Press Y for more recommendations, press N to quit Gnod.\"\u001b[0m\u001b[1;33m)\u001b[0m\u001b[1;33m.\u001b[0m\u001b[0mupper\u001b[0m\u001b[1;33m(\u001b[0m\u001b[1;33m)\u001b[0m\u001b[1;33m\u001b[0m\u001b[1;33m\u001b[0m\u001b[0m\n\u001b[0m\u001b[0;32m     14\u001b[0m         \u001b[1;32mif\u001b[0m \u001b[0mbuttom\u001b[0m \u001b[1;33m==\u001b[0m \u001b[1;34m'N'\u001b[0m\u001b[1;33m:\u001b[0m\u001b[1;33m\u001b[0m\u001b[1;33m\u001b[0m\u001b[0m\n\u001b[0;32m     15\u001b[0m             \u001b[0mplay\u001b[0m \u001b[1;33m=\u001b[0m \u001b[1;32mFalse\u001b[0m\u001b[1;33m\u001b[0m\u001b[1;33m\u001b[0m\u001b[0m\n",
      "\u001b[1;32m~\\anaconda3\\lib\\site-packages\\ipykernel\\kernelbase.py\u001b[0m in \u001b[0;36mraw_input\u001b[1;34m(self, prompt)\u001b[0m\n\u001b[0;32m   1004\u001b[0m                 \u001b[1;34m\"raw_input was called, but this frontend does not support input requests.\"\u001b[0m\u001b[1;33m\u001b[0m\u001b[1;33m\u001b[0m\u001b[0m\n\u001b[0;32m   1005\u001b[0m             )\n\u001b[1;32m-> 1006\u001b[1;33m         return self._input_request(\n\u001b[0m\u001b[0;32m   1007\u001b[0m             \u001b[0mstr\u001b[0m\u001b[1;33m(\u001b[0m\u001b[0mprompt\u001b[0m\u001b[1;33m)\u001b[0m\u001b[1;33m,\u001b[0m\u001b[1;33m\u001b[0m\u001b[1;33m\u001b[0m\u001b[0m\n\u001b[0;32m   1008\u001b[0m             \u001b[0mself\u001b[0m\u001b[1;33m.\u001b[0m\u001b[0m_parent_ident\u001b[0m\u001b[1;33m[\u001b[0m\u001b[1;34m\"shell\"\u001b[0m\u001b[1;33m]\u001b[0m\u001b[1;33m,\u001b[0m\u001b[1;33m\u001b[0m\u001b[1;33m\u001b[0m\u001b[0m\n",
      "\u001b[1;32m~\\anaconda3\\lib\\site-packages\\ipykernel\\kernelbase.py\u001b[0m in \u001b[0;36m_input_request\u001b[1;34m(self, prompt, ident, parent, password)\u001b[0m\n\u001b[0;32m   1049\u001b[0m             \u001b[1;32mexcept\u001b[0m \u001b[0mKeyboardInterrupt\u001b[0m\u001b[1;33m:\u001b[0m\u001b[1;33m\u001b[0m\u001b[1;33m\u001b[0m\u001b[0m\n\u001b[0;32m   1050\u001b[0m                 \u001b[1;31m# re-raise KeyboardInterrupt, to truncate traceback\u001b[0m\u001b[1;33m\u001b[0m\u001b[1;33m\u001b[0m\u001b[0m\n\u001b[1;32m-> 1051\u001b[1;33m                 \u001b[1;32mraise\u001b[0m \u001b[0mKeyboardInterrupt\u001b[0m\u001b[1;33m(\u001b[0m\u001b[1;34m\"Interrupted by user\"\u001b[0m\u001b[1;33m)\u001b[0m \u001b[1;32mfrom\u001b[0m \u001b[1;32mNone\u001b[0m\u001b[1;33m\u001b[0m\u001b[1;33m\u001b[0m\u001b[0m\n\u001b[0m\u001b[0;32m   1052\u001b[0m             \u001b[1;32mexcept\u001b[0m \u001b[0mException\u001b[0m\u001b[1;33m:\u001b[0m\u001b[1;33m\u001b[0m\u001b[1;33m\u001b[0m\u001b[0m\n\u001b[0;32m   1053\u001b[0m                 \u001b[0mself\u001b[0m\u001b[1;33m.\u001b[0m\u001b[0mlog\u001b[0m\u001b[1;33m.\u001b[0m\u001b[0mwarning\u001b[0m\u001b[1;33m(\u001b[0m\u001b[1;34m\"Invalid Message:\"\u001b[0m\u001b[1;33m,\u001b[0m \u001b[0mexc_info\u001b[0m\u001b[1;33m=\u001b[0m\u001b[1;32mTrue\u001b[0m\u001b[1;33m)\u001b[0m\u001b[1;33m\u001b[0m\u001b[1;33m\u001b[0m\u001b[0m\n",
      "\u001b[1;31mKeyboardInterrupt\u001b[0m: Interrupted by user"
     ]
    }
   ],
   "source": [
    "gnod_2_0(spot)"
   ]
  },
  {
   "cell_type": "code",
   "execution_count": null,
   "id": "8b40759c",
   "metadata": {},
   "outputs": [],
   "source": []
  }
 ],
 "metadata": {
  "kernelspec": {
   "display_name": "Python 3 (ipykernel)",
   "language": "python",
   "name": "python3"
  },
  "language_info": {
   "codemirror_mode": {
    "name": "ipython",
    "version": 3
   },
   "file_extension": ".py",
   "mimetype": "text/x-python",
   "name": "python",
   "nbconvert_exporter": "python",
   "pygments_lexer": "ipython3",
   "version": "3.9.7"
  }
 },
 "nbformat": 4,
 "nbformat_minor": 5
}
